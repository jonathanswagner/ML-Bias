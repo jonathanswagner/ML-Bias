{
 "cells": [
  {
   "cell_type": "code",
   "execution_count": 5,
   "metadata": {},
   "outputs": [],
   "source": [
    "from joblib import load\n",
    "import pandas as pd\n",
    "import code.operators as ops"
   ]
  },
  {
   "cell_type": "code",
   "execution_count": 6,
   "metadata": {},
   "outputs": [],
   "source": [
    "data = pd.read_csv('x_train.csv', index_col=['Loan_ID'])\n",
    "svc = load('svc_loan.joblib')"
   ]
  },
  {
   "cell_type": "code",
   "execution_count": 7,
   "metadata": {},
   "outputs": [],
   "source": [
    "X_new = ops.data_generator(data)"
   ]
  },
  {
   "cell_type": "code",
   "execution_count": 8,
   "metadata": {},
   "outputs": [
    {
     "data": {
      "text/html": [
       "<div>\n",
       "<style scoped>\n",
       "    .dataframe tbody tr th:only-of-type {\n",
       "        vertical-align: middle;\n",
       "    }\n",
       "\n",
       "    .dataframe tbody tr th {\n",
       "        vertical-align: top;\n",
       "    }\n",
       "\n",
       "    .dataframe thead th {\n",
       "        text-align: right;\n",
       "    }\n",
       "</style>\n",
       "<table border=\"1\" class=\"dataframe\">\n",
       "  <thead>\n",
       "    <tr style=\"text-align: right;\">\n",
       "      <th></th>\n",
       "      <th>Gender</th>\n",
       "      <th>Education</th>\n",
       "      <th>Self_Employed</th>\n",
       "      <th>Credit_History</th>\n",
       "      <th>Property_Area_Semiurban</th>\n",
       "      <th>Property_Area_Urban</th>\n",
       "      <th>ln_monthly_return</th>\n",
       "      <th>ln_total_income</th>\n",
       "      <th>ln_LoanAmount</th>\n",
       "    </tr>\n",
       "  </thead>\n",
       "  <tbody>\n",
       "    <tr>\n",
       "      <th>count</th>\n",
       "      <td>1000.000000</td>\n",
       "      <td>1000.000000</td>\n",
       "      <td>1000.000000</td>\n",
       "      <td>1000.000000</td>\n",
       "      <td>1000.000000</td>\n",
       "      <td>1000.000000</td>\n",
       "      <td>1000.000000</td>\n",
       "      <td>1000.000000</td>\n",
       "      <td>1000.000000</td>\n",
       "    </tr>\n",
       "    <tr>\n",
       "      <th>mean</th>\n",
       "      <td>0.508000</td>\n",
       "      <td>0.476000</td>\n",
       "      <td>0.501000</td>\n",
       "      <td>0.492000</td>\n",
       "      <td>0.515000</td>\n",
       "      <td>0.508000</td>\n",
       "      <td>1.038411</td>\n",
       "      <td>-0.904478</td>\n",
       "      <td>1.073270</td>\n",
       "    </tr>\n",
       "    <tr>\n",
       "      <th>std</th>\n",
       "      <td>0.500186</td>\n",
       "      <td>0.499674</td>\n",
       "      <td>0.500249</td>\n",
       "      <td>0.500186</td>\n",
       "      <td>0.500025</td>\n",
       "      <td>0.500186</td>\n",
       "      <td>21.232451</td>\n",
       "      <td>20.217414</td>\n",
       "      <td>21.241634</td>\n",
       "    </tr>\n",
       "    <tr>\n",
       "      <th>min</th>\n",
       "      <td>0.000000</td>\n",
       "      <td>0.000000</td>\n",
       "      <td>0.000000</td>\n",
       "      <td>0.000000</td>\n",
       "      <td>0.000000</td>\n",
       "      <td>0.000000</td>\n",
       "      <td>-56.966379</td>\n",
       "      <td>-57.556815</td>\n",
       "      <td>-73.529122</td>\n",
       "    </tr>\n",
       "    <tr>\n",
       "      <th>25%</th>\n",
       "      <td>0.000000</td>\n",
       "      <td>0.000000</td>\n",
       "      <td>0.000000</td>\n",
       "      <td>0.000000</td>\n",
       "      <td>0.000000</td>\n",
       "      <td>0.000000</td>\n",
       "      <td>-13.427054</td>\n",
       "      <td>-15.297069</td>\n",
       "      <td>-14.050383</td>\n",
       "    </tr>\n",
       "    <tr>\n",
       "      <th>50%</th>\n",
       "      <td>1.000000</td>\n",
       "      <td>0.000000</td>\n",
       "      <td>1.000000</td>\n",
       "      <td>0.000000</td>\n",
       "      <td>1.000000</td>\n",
       "      <td>1.000000</td>\n",
       "      <td>1.008042</td>\n",
       "      <td>-1.105891</td>\n",
       "      <td>1.268514</td>\n",
       "    </tr>\n",
       "    <tr>\n",
       "      <th>75%</th>\n",
       "      <td>1.000000</td>\n",
       "      <td>1.000000</td>\n",
       "      <td>1.000000</td>\n",
       "      <td>1.000000</td>\n",
       "      <td>1.000000</td>\n",
       "      <td>1.000000</td>\n",
       "      <td>15.368907</td>\n",
       "      <td>12.716226</td>\n",
       "      <td>15.801905</td>\n",
       "    </tr>\n",
       "    <tr>\n",
       "      <th>max</th>\n",
       "      <td>1.000000</td>\n",
       "      <td>1.000000</td>\n",
       "      <td>1.000000</td>\n",
       "      <td>1.000000</td>\n",
       "      <td>1.000000</td>\n",
       "      <td>1.000000</td>\n",
       "      <td>58.184400</td>\n",
       "      <td>64.921885</td>\n",
       "      <td>67.383413</td>\n",
       "    </tr>\n",
       "  </tbody>\n",
       "</table>\n",
       "</div>"
      ],
      "text/plain": [
       "            Gender    Education  Self_Employed  Credit_History  \\\n",
       "count  1000.000000  1000.000000    1000.000000     1000.000000   \n",
       "mean      0.508000     0.476000       0.501000        0.492000   \n",
       "std       0.500186     0.499674       0.500249        0.500186   \n",
       "min       0.000000     0.000000       0.000000        0.000000   \n",
       "25%       0.000000     0.000000       0.000000        0.000000   \n",
       "50%       1.000000     0.000000       1.000000        0.000000   \n",
       "75%       1.000000     1.000000       1.000000        1.000000   \n",
       "max       1.000000     1.000000       1.000000        1.000000   \n",
       "\n",
       "       Property_Area_Semiurban  Property_Area_Urban  ln_monthly_return  \\\n",
       "count              1000.000000          1000.000000        1000.000000   \n",
       "mean                  0.515000             0.508000           1.038411   \n",
       "std                   0.500025             0.500186          21.232451   \n",
       "min                   0.000000             0.000000         -56.966379   \n",
       "25%                   0.000000             0.000000         -13.427054   \n",
       "50%                   1.000000             1.000000           1.008042   \n",
       "75%                   1.000000             1.000000          15.368907   \n",
       "max                   1.000000             1.000000          58.184400   \n",
       "\n",
       "       ln_total_income  ln_LoanAmount  \n",
       "count      1000.000000    1000.000000  \n",
       "mean         -0.904478       1.073270  \n",
       "std          20.217414      21.241634  \n",
       "min         -57.556815     -73.529122  \n",
       "25%         -15.297069     -14.050383  \n",
       "50%          -1.105891       1.268514  \n",
       "75%          12.716226      15.801905  \n",
       "max          64.921885      67.383413  "
      ]
     },
     "execution_count": 8,
     "metadata": {},
     "output_type": "execute_result"
    }
   ],
   "source": [
    "X_new.describe()"
   ]
  },
  {
   "cell_type": "code",
   "execution_count": 9,
   "metadata": {},
   "outputs": [],
   "source": [
    "pred_n = ops.create_eval(svc, X_new)"
   ]
  },
  {
   "cell_type": "code",
   "execution_count": 10,
   "metadata": {},
   "outputs": [
    {
     "name": "stdout",
     "output_type": "stream",
     "text": [
      "1-min(DI, 1/DI): 0.07\n",
      "The algorithm can be considered to be not biased\n"
     ]
    }
   ],
   "source": [
    "ops.calc_disparity_index(pred_n, 'Pred', 'Gender')"
   ]
  },
  {
   "cell_type": "code",
   "execution_count": null,
   "metadata": {},
   "outputs": [],
   "source": []
  }
 ],
 "metadata": {
  "kernelspec": {
   "display_name": "Python 3",
   "language": "python",
   "name": "python3"
  },
  "language_info": {
   "codemirror_mode": {
    "name": "ipython",
    "version": 3
   },
   "file_extension": ".py",
   "mimetype": "text/x-python",
   "name": "python",
   "nbconvert_exporter": "python",
   "pygments_lexer": "ipython3",
   "version": "3.7.3"
  }
 },
 "nbformat": 4,
 "nbformat_minor": 2
}

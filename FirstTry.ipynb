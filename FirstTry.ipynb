{
 "cells": [
  {
   "cell_type": "code",
   "execution_count": 1,
   "metadata": {},
   "outputs": [],
   "source": [
    "from joblib import load\n",
    "import pandas as pd\n",
    "import code.operators as ops"
   ]
  },
  {
   "cell_type": "code",
   "execution_count": 2,
   "metadata": {},
   "outputs": [],
   "source": [
    "data = pd.read_csv('x_train.csv', index_col=['Loan_ID'])\n",
    "svc_bias = load('svc_loan_bias.joblib')\n",
    "lr_bias = load('lr_loan_bias.joblib')\n",
    "lr = load('lr_loan.joblib')\n",
    "svc = load('svc_loan.joblib')"
   ]
  },
  {
   "cell_type": "code",
   "execution_count": 3,
   "metadata": {},
   "outputs": [],
   "source": [
    "X_new = ops.data_generator_fd(data)"
   ]
  },
  {
   "cell_type": "code",
   "execution_count": 4,
   "metadata": {},
   "outputs": [
    {
     "data": {
      "text/html": [
       "<div>\n",
       "<style scoped>\n",
       "    .dataframe tbody tr th:only-of-type {\n",
       "        vertical-align: middle;\n",
       "    }\n",
       "\n",
       "    .dataframe tbody tr th {\n",
       "        vertical-align: top;\n",
       "    }\n",
       "\n",
       "    .dataframe thead th {\n",
       "        text-align: right;\n",
       "    }\n",
       "</style>\n",
       "<table border=\"1\" class=\"dataframe\">\n",
       "  <thead>\n",
       "    <tr style=\"text-align: right;\">\n",
       "      <th></th>\n",
       "      <th>Gender</th>\n",
       "      <th>Education</th>\n",
       "      <th>Self_Employed</th>\n",
       "      <th>Credit_History</th>\n",
       "      <th>Property_Area_Semiurban</th>\n",
       "      <th>Property_Area_Urban</th>\n",
       "      <th>ln_monthly_return</th>\n",
       "      <th>ln_total_income</th>\n",
       "      <th>ln_LoanAmount</th>\n",
       "    </tr>\n",
       "  </thead>\n",
       "  <tbody>\n",
       "    <tr>\n",
       "      <th>count</th>\n",
       "      <td>1000.000000</td>\n",
       "      <td>1000.000000</td>\n",
       "      <td>1000.00000</td>\n",
       "      <td>1000.000000</td>\n",
       "      <td>1000.000000</td>\n",
       "      <td>1000.000000</td>\n",
       "      <td>1000.000000</td>\n",
       "      <td>1000.000000</td>\n",
       "      <td>1000.000000</td>\n",
       "    </tr>\n",
       "    <tr>\n",
       "      <th>mean</th>\n",
       "      <td>0.502000</td>\n",
       "      <td>0.472000</td>\n",
       "      <td>0.51000</td>\n",
       "      <td>0.476000</td>\n",
       "      <td>0.485000</td>\n",
       "      <td>0.493000</td>\n",
       "      <td>1.040241</td>\n",
       "      <td>-0.058420</td>\n",
       "      <td>-1.041237</td>\n",
       "    </tr>\n",
       "    <tr>\n",
       "      <th>std</th>\n",
       "      <td>0.500246</td>\n",
       "      <td>0.499465</td>\n",
       "      <td>0.50015</td>\n",
       "      <td>0.499674</td>\n",
       "      <td>0.500025</td>\n",
       "      <td>0.500201</td>\n",
       "      <td>22.529506</td>\n",
       "      <td>21.700587</td>\n",
       "      <td>23.608858</td>\n",
       "    </tr>\n",
       "    <tr>\n",
       "      <th>min</th>\n",
       "      <td>0.000000</td>\n",
       "      <td>0.000000</td>\n",
       "      <td>0.00000</td>\n",
       "      <td>0.000000</td>\n",
       "      <td>0.000000</td>\n",
       "      <td>0.000000</td>\n",
       "      <td>-66.370103</td>\n",
       "      <td>-64.807517</td>\n",
       "      <td>-70.356328</td>\n",
       "    </tr>\n",
       "    <tr>\n",
       "      <th>25%</th>\n",
       "      <td>0.000000</td>\n",
       "      <td>0.000000</td>\n",
       "      <td>0.00000</td>\n",
       "      <td>0.000000</td>\n",
       "      <td>0.000000</td>\n",
       "      <td>0.000000</td>\n",
       "      <td>-14.508944</td>\n",
       "      <td>-15.249814</td>\n",
       "      <td>-17.457923</td>\n",
       "    </tr>\n",
       "    <tr>\n",
       "      <th>50%</th>\n",
       "      <td>1.000000</td>\n",
       "      <td>0.000000</td>\n",
       "      <td>1.00000</td>\n",
       "      <td>0.000000</td>\n",
       "      <td>0.000000</td>\n",
       "      <td>0.000000</td>\n",
       "      <td>1.144091</td>\n",
       "      <td>-0.345658</td>\n",
       "      <td>-0.377131</td>\n",
       "    </tr>\n",
       "    <tr>\n",
       "      <th>75%</th>\n",
       "      <td>1.000000</td>\n",
       "      <td>1.000000</td>\n",
       "      <td>1.00000</td>\n",
       "      <td>1.000000</td>\n",
       "      <td>1.000000</td>\n",
       "      <td>1.000000</td>\n",
       "      <td>16.799455</td>\n",
       "      <td>15.464051</td>\n",
       "      <td>14.784097</td>\n",
       "    </tr>\n",
       "    <tr>\n",
       "      <th>max</th>\n",
       "      <td>1.000000</td>\n",
       "      <td>1.000000</td>\n",
       "      <td>1.00000</td>\n",
       "      <td>1.000000</td>\n",
       "      <td>1.000000</td>\n",
       "      <td>1.000000</td>\n",
       "      <td>80.317343</td>\n",
       "      <td>61.565245</td>\n",
       "      <td>78.491872</td>\n",
       "    </tr>\n",
       "  </tbody>\n",
       "</table>\n",
       "</div>"
      ],
      "text/plain": [
       "            Gender    Education  Self_Employed  Credit_History  \\\n",
       "count  1000.000000  1000.000000     1000.00000     1000.000000   \n",
       "mean      0.502000     0.472000        0.51000        0.476000   \n",
       "std       0.500246     0.499465        0.50015        0.499674   \n",
       "min       0.000000     0.000000        0.00000        0.000000   \n",
       "25%       0.000000     0.000000        0.00000        0.000000   \n",
       "50%       1.000000     0.000000        1.00000        0.000000   \n",
       "75%       1.000000     1.000000        1.00000        1.000000   \n",
       "max       1.000000     1.000000        1.00000        1.000000   \n",
       "\n",
       "       Property_Area_Semiurban  Property_Area_Urban  ln_monthly_return  \\\n",
       "count              1000.000000          1000.000000        1000.000000   \n",
       "mean                  0.485000             0.493000           1.040241   \n",
       "std                   0.500025             0.500201          22.529506   \n",
       "min                   0.000000             0.000000         -66.370103   \n",
       "25%                   0.000000             0.000000         -14.508944   \n",
       "50%                   0.000000             0.000000           1.144091   \n",
       "75%                   1.000000             1.000000          16.799455   \n",
       "max                   1.000000             1.000000          80.317343   \n",
       "\n",
       "       ln_total_income  ln_LoanAmount  \n",
       "count      1000.000000    1000.000000  \n",
       "mean         -0.058420      -1.041237  \n",
       "std          21.700587      23.608858  \n",
       "min         -64.807517     -70.356328  \n",
       "25%         -15.249814     -17.457923  \n",
       "50%          -0.345658      -0.377131  \n",
       "75%          15.464051      14.784097  \n",
       "max          61.565245      78.491872  "
      ]
     },
     "execution_count": 4,
     "metadata": {},
     "output_type": "execute_result"
    }
   ],
   "source": [
    "X_new.describe()"
   ]
  },
  {
   "cell_type": "code",
   "execution_count": 5,
   "metadata": {},
   "outputs": [
    {
     "data": {
      "image/png": "[encoded data removed]",
      "text/plain": [
       "<Figure size 432x288 with 1 Axes>"
      ]
     },
     "metadata": {
      "needs_background": "light"
     },
     "output_type": "display_data"
    }
   ],
   "source": [
    "ops.plot_feature_importance(x='feature', y='importance', data=ops.feature_importance(lr_bias, X_new))"
   ]
  },
  {
   "cell_type": "code",
   "execution_count": 5,
   "metadata": {},
   "outputs": [],
   "source": [
    "pred_n_bias = ops.create_eval(svc_bias, X_new)"
   ]
  },
  {
   "cell_type": "code",
   "execution_count": 6,
   "metadata": {},
   "outputs": [
    {
     "name": "stdout",
     "output_type": "stream",
     "text": [
      "1-min(DI, 1/DI): 0.931\n",
      "There is a potential bias\n"
     ]
    }
   ],
   "source": [
    "ops.calc_disparity_index(pred_n_bias, 'Pred', 'Gender',1,0)"
   ]
  },
  {
   "cell_type": "code",
   "execution_count": 7,
   "metadata": {},
   "outputs": [
    {
     "name": "stdout",
     "output_type": "stream",
     "text": [
      "-0.448\n",
      "The algorithm can be considered to be not biased\n"
     ]
    }
   ],
   "source": [
    "ops.calc_stat_parity(pred_n_bias, 'Pred', 'Gender',1,0)"
   ]
  },
  {
   "cell_type": "code",
   "execution_count": 8,
   "metadata": {},
   "outputs": [
    {
     "name": "stdout",
     "output_type": "stream",
     "text": [
      "-0.448\n",
      "There is a potential bias\n"
     ]
    }
   ],
   "source": [
    "ops.calc_mean_diff(pred_n_bias, 'Pred', 'Gender',1,0)"
   ]
  },
  {
   "cell_type": "code",
   "execution_count": 9,
   "metadata": {},
   "outputs": [
    {
     "name": "stdout",
     "output_type": "stream",
     "text": [
      "-0.4229117647058824\n",
      "There is a potential bias\n"
     ]
    }
   ],
   "source": [
    "ops.equal_opportunity(X_new, pred_n_bias, 'Pred', 'Gender', 1, 0)"
   ]
  },
  {
   "cell_type": "code",
   "execution_count": 10,
   "metadata": {},
   "outputs": [
    {
     "name": "stdout",
     "output_type": "stream",
     "text": [
      "0.4099123371747292\n",
      "There is a potential bias\n"
     ]
    }
   ],
   "source": [
    "ops.coeff_variation(X_new, pred_n_bias, 'Pred', 'Gender', 1, 0)"
   ]
  },
  {
   "cell_type": "code",
   "execution_count": 16,
   "metadata": {},
   "outputs": [],
   "source": [
    "bina = ops.create_binary(pred_n_bias, 'Pred', 'Gender', 1, 0)"
   ]
  },
  {
   "cell_type": "code",
   "execution_count": 17,
   "metadata": {},
   "outputs": [
    {
     "name": "stdout",
     "output_type": "stream",
     "text": [
      "Number of instances: 1000.0\n",
      "Statistical parity difference (probability of favorable outcome for unprivileged instances - probability of favorable outcome for privileged instances): -0.4484984642246437\n",
      "Number of positive-outcome instances: 265.0\n",
      "Number of negative-outcome instances: 735.0\n",
      "Mean difference (mean label value on privileged instances - mean label value on unprivileged instances): -0.4484984642246437\n",
      "Disparate impact (probability of favorable outcome for unprivileged instances / probability of favorable outcome for privileged instances): 0.06878029717212536\n",
      "Consistency (Zemel, et al. 2013): [0.7018]\n"
     ]
    }
   ],
   "source": [
    "ops.MetricTextExplainer_(bina).explain()"
   ]
  },
  {
   "cell_type": "code",
   "execution_count": 44,
   "metadata": {},
   "outputs": [],
   "source": []
  }
 ],
 "metadata": {
  "kernelspec": {
   "display_name": "Python 3",
   "language": "python",
   "name": "python3"
  },
  "language_info": {
   "codemirror_mode": {
    "name": "ipython",
    "version": 3
   },
   "file_extension": ".py",
   "mimetype": "text/x-python",
   "name": "python",
   "nbconvert_exporter": "python",
   "pygments_lexer": "ipython3",
   "version": "3.7.3"
  }
 },
 "nbformat": 4,
 "nbformat_minor": 2
}

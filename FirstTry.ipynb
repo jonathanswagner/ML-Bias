{
 "cells": [
  {
   "cell_type": "code",
   "execution_count": 1,
   "metadata": {},
   "outputs": [],
   "source": [
    "from joblib import load\n",
    "import pandas as pd\n",
    "import code.operators as ops\n",
    "import seaborn as sns\n",
    "import statistics"
   ]
  },
  {
   "cell_type": "markdown",
   "metadata": {},
   "source": [
    "#  Case Study 1 - Loan Default Prediction"
   ]
  },
  {
   "cell_type": "code",
   "execution_count": 3,
   "metadata": {},
   "outputs": [],
   "source": [
    "data = pd.read_csv('x_train.csv', index_col=['Loan_ID'])\n",
    "#svc_bias = load('svc_loan_bias.joblib')\n",
    "lr_bias = load('lr_loan_bias.joblib')\n",
    "lr = load('lr_loan.joblib')\n",
    "#svc = load('svc_loan.joblib')"
   ]
  },
  {
   "cell_type": "code",
   "execution_count": 4,
   "metadata": {},
   "outputs": [],
   "source": [
    "X_new = ops.data_generator_fd(data)"
   ]
  },
  {
   "cell_type": "code",
   "execution_count": 5,
   "metadata": {},
   "outputs": [
    {
     "data": {
      "text/html": [
       "<div>\n",
       "<style scoped>\n",
       "    .dataframe tbody tr th:only-of-type {\n",
       "        vertical-align: middle;\n",
       "    }\n",
       "\n",
       "    .dataframe tbody tr th {\n",
       "        vertical-align: top;\n",
       "    }\n",
       "\n",
       "    .dataframe thead th {\n",
       "        text-align: right;\n",
       "    }\n",
       "</style>\n",
       "<table border=\"1\" class=\"dataframe\">\n",
       "  <thead>\n",
       "    <tr style=\"text-align: right;\">\n",
       "      <th></th>\n",
       "      <th>Gender</th>\n",
       "      <th>Education</th>\n",
       "      <th>Self_Employed</th>\n",
       "      <th>Credit_History</th>\n",
       "      <th>Property_Area_Semiurban</th>\n",
       "      <th>Property_Area_Urban</th>\n",
       "      <th>ln_monthly_return</th>\n",
       "      <th>ln_total_income</th>\n",
       "      <th>ln_LoanAmount</th>\n",
       "    </tr>\n",
       "  </thead>\n",
       "  <tbody>\n",
       "    <tr>\n",
       "      <th>count</th>\n",
       "      <td>1000.000000</td>\n",
       "      <td>1000.000000</td>\n",
       "      <td>1000.000000</td>\n",
       "      <td>1000.000000</td>\n",
       "      <td>1000.00000</td>\n",
       "      <td>1000.000000</td>\n",
       "      <td>1000.000000</td>\n",
       "      <td>1000.000000</td>\n",
       "      <td>1000.000000</td>\n",
       "    </tr>\n",
       "    <tr>\n",
       "      <th>mean</th>\n",
       "      <td>0.482000</td>\n",
       "      <td>0.505000</td>\n",
       "      <td>0.495000</td>\n",
       "      <td>0.850955</td>\n",
       "      <td>0.49000</td>\n",
       "      <td>0.530000</td>\n",
       "      <td>0.359907</td>\n",
       "      <td>-0.369836</td>\n",
       "      <td>-0.956995</td>\n",
       "    </tr>\n",
       "    <tr>\n",
       "      <th>std</th>\n",
       "      <td>0.499926</td>\n",
       "      <td>0.500225</td>\n",
       "      <td>0.500225</td>\n",
       "      <td>0.367409</td>\n",
       "      <td>0.50015</td>\n",
       "      <td>0.499349</td>\n",
       "      <td>22.937976</td>\n",
       "      <td>21.210169</td>\n",
       "      <td>23.263947</td>\n",
       "    </tr>\n",
       "    <tr>\n",
       "      <th>min</th>\n",
       "      <td>0.000000</td>\n",
       "      <td>0.000000</td>\n",
       "      <td>0.000000</td>\n",
       "      <td>-0.284143</td>\n",
       "      <td>0.00000</td>\n",
       "      <td>0.000000</td>\n",
       "      <td>-79.496095</td>\n",
       "      <td>-66.201079</td>\n",
       "      <td>-71.759055</td>\n",
       "    </tr>\n",
       "    <tr>\n",
       "      <th>25%</th>\n",
       "      <td>0.000000</td>\n",
       "      <td>0.000000</td>\n",
       "      <td>0.000000</td>\n",
       "      <td>0.602265</td>\n",
       "      <td>0.00000</td>\n",
       "      <td>0.000000</td>\n",
       "      <td>-14.962829</td>\n",
       "      <td>-14.506299</td>\n",
       "      <td>-16.769710</td>\n",
       "    </tr>\n",
       "    <tr>\n",
       "      <th>50%</th>\n",
       "      <td>0.000000</td>\n",
       "      <td>1.000000</td>\n",
       "      <td>0.000000</td>\n",
       "      <td>0.844822</td>\n",
       "      <td>0.00000</td>\n",
       "      <td>1.000000</td>\n",
       "      <td>-0.452890</td>\n",
       "      <td>-0.484405</td>\n",
       "      <td>-0.360056</td>\n",
       "    </tr>\n",
       "    <tr>\n",
       "      <th>75%</th>\n",
       "      <td>1.000000</td>\n",
       "      <td>1.000000</td>\n",
       "      <td>1.000000</td>\n",
       "      <td>1.094865</td>\n",
       "      <td>1.00000</td>\n",
       "      <td>1.000000</td>\n",
       "      <td>16.601722</td>\n",
       "      <td>12.976165</td>\n",
       "      <td>14.742157</td>\n",
       "    </tr>\n",
       "    <tr>\n",
       "      <th>max</th>\n",
       "      <td>1.000000</td>\n",
       "      <td>1.000000</td>\n",
       "      <td>1.000000</td>\n",
       "      <td>2.115157</td>\n",
       "      <td>1.00000</td>\n",
       "      <td>1.000000</td>\n",
       "      <td>81.785607</td>\n",
       "      <td>73.185261</td>\n",
       "      <td>69.569677</td>\n",
       "    </tr>\n",
       "  </tbody>\n",
       "</table>\n",
       "</div>"
      ],
      "text/plain": [
       "            Gender    Education  Self_Employed  Credit_History  \\\n",
       "count  1000.000000  1000.000000    1000.000000     1000.000000   \n",
       "mean      0.482000     0.505000       0.495000        0.850955   \n",
       "std       0.499926     0.500225       0.500225        0.367409   \n",
       "min       0.000000     0.000000       0.000000       -0.284143   \n",
       "25%       0.000000     0.000000       0.000000        0.602265   \n",
       "50%       0.000000     1.000000       0.000000        0.844822   \n",
       "75%       1.000000     1.000000       1.000000        1.094865   \n",
       "max       1.000000     1.000000       1.000000        2.115157   \n",
       "\n",
       "       Property_Area_Semiurban  Property_Area_Urban  ln_monthly_return  \\\n",
       "count               1000.00000          1000.000000        1000.000000   \n",
       "mean                   0.49000             0.530000           0.359907   \n",
       "std                    0.50015             0.499349          22.937976   \n",
       "min                    0.00000             0.000000         -79.496095   \n",
       "25%                    0.00000             0.000000         -14.962829   \n",
       "50%                    0.00000             1.000000          -0.452890   \n",
       "75%                    1.00000             1.000000          16.601722   \n",
       "max                    1.00000             1.000000          81.785607   \n",
       "\n",
       "       ln_total_income  ln_LoanAmount  \n",
       "count      1000.000000    1000.000000  \n",
       "mean         -0.369836      -0.956995  \n",
       "std          21.210169      23.263947  \n",
       "min         -66.201079     -71.759055  \n",
       "25%         -14.506299     -16.769710  \n",
       "50%          -0.484405      -0.360056  \n",
       "75%          12.976165      14.742157  \n",
       "max          73.185261      69.569677  "
      ]
     },
     "execution_count": 5,
     "metadata": {},
     "output_type": "execute_result"
    }
   ],
   "source": [
    "X_new.describe()"
   ]
  },
  {
   "cell_type": "code",
   "execution_count": 5,
   "metadata": {},
   "outputs": [
    {
     "data": {
      "image/png": "[encoded data removed]",
      "text/plain": [
       "<Figure size 432x288 with 1 Axes>"
      ]
     },
     "metadata": {
      "needs_background": "light"
     },
     "output_type": "display_data"
    }
   ],
   "source": [
    "ops.plot_feature_importance(x='feature', y='importance', data=ops.feature_importance(lr_bias, X_new))"
   ]
  },
  {
   "cell_type": "code",
   "execution_count": 6,
   "metadata": {},
   "outputs": [
    {
     "data": {
      "image/png": "[encoded data removed]",
      "text/plain": [
       "<Figure size 432x288 with 1 Axes>"
      ]
     },
     "metadata": {
      "needs_background": "light"
     },
     "output_type": "display_data"
    }
   ],
   "source": [
    "ops.plot_feature_importance(x='feature', y='importance', data=ops.feature_importance(lr, X_new))"
   ]
  },
  {
   "cell_type": "code",
   "execution_count": 7,
   "metadata": {},
   "outputs": [],
   "source": [
    "pred_n_bias = ops.create_eval(lr_bias, X_new)\n",
    "pred_n = ops.create_eval(lr, X_new)"
   ]
  },
  {
   "cell_type": "code",
   "execution_count": 8,
   "metadata": {},
   "outputs": [
    {
     "name": "stdout",
     "output_type": "stream",
     "text": [
      "1-min(DI, 1/DI): 0.888\n",
      "There is a potential bias\n"
     ]
    }
   ],
   "source": [
    "ops.calc_disparity_index(pred_n_bias, 'Pred', 'Gender',0)"
   ]
  },
  {
   "cell_type": "code",
   "execution_count": 9,
   "metadata": {},
   "outputs": [
    {
     "name": "stdout",
     "output_type": "stream",
     "text": [
      "-0.666\n",
      "There is a potential bias\n"
     ]
    }
   ],
   "source": [
    "ops.calc_stat_parity(pred_n_bias, 'Pred', 'Gender',0)"
   ]
  },
  {
   "cell_type": "code",
   "execution_count": 10,
   "metadata": {},
   "outputs": [
    {
     "name": "stdout",
     "output_type": "stream",
     "text": [
      "-0.666\n",
      "There is a potential bias\n"
     ]
    }
   ],
   "source": [
    "ops.calc_mean_diff(pred_n_bias, 'Pred', 'Gender',0)"
   ]
  },
  {
   "cell_type": "code",
   "execution_count": 11,
   "metadata": {},
   "outputs": [
    {
     "name": "stdout",
     "output_type": "stream",
     "text": [
      "-0.6810772501771793\n",
      "There is a potential bias\n"
     ]
    }
   ],
   "source": [
    "ops.equal_opportunity(X_new, pred_n_bias, 'Pred', 'Gender', 0)"
   ]
  },
  {
   "cell_type": "code",
   "execution_count": 13,
   "metadata": {},
   "outputs": [
    {
     "name": "stdout",
     "output_type": "stream",
     "text": [
      "0.5048389895599675\n",
      "There is a potential bias\n"
     ]
    }
   ],
   "source": [
    "ops.coeff_variation(X_new, pred_n_bias, 'Pred', 'Gender', 0)"
   ]
  },
  {
   "cell_type": "code",
   "execution_count": 15,
   "metadata": {},
   "outputs": [],
   "source": [
    "bina = ops.create_binary(pred_n_bias, 'Pred', 'Gender', 0)"
   ]
  },
  {
   "cell_type": "code",
   "execution_count": 16,
   "metadata": {},
   "outputs": [
    {
     "name": "stdout",
     "output_type": "stream",
     "text": [
      "Consistency (Zemel, et al. 2013): [0.665]\n",
      "Number of positive-outcome instances: 418.0\n",
      "Mean difference (mean label value on privileged instances - mean label value on unprivileged instances): -0.6663306653226613\n",
      "Statistical parity difference (probability of favorable outcome for unprivileged instances - probability of favorable outcome for privileged instances): -0.6663306653226613\n",
      "Number of instances: 1000.0\n",
      "Number of negative-outcome instances: 582.0\n",
      "Disparate impact (probability of favorable outcome for unprivileged instances / probability of favorable outcome for privileged instances): 0.11214983157804972\n"
     ]
    }
   ],
   "source": [
    "ops.MetricTextExplainer_(bina).explain()"
   ]
  },
  {
   "cell_type": "markdown",
   "metadata": {},
   "source": [
    "# Case Study 2 - Credit Card Acceptance"
   ]
  },
  {
   "cell_type": "code",
   "execution_count": 10,
   "metadata": {},
   "outputs": [],
   "source": [
    "data = pd.read_csv('x_train_cc.csv', index_col=0)\n",
    "svc = load('svc_cc.joblib')\n",
    "lr = load('lr_cc.joblib')"
   ]
  },
  {
   "cell_type": "code",
   "execution_count": 11,
   "metadata": {},
   "outputs": [
    {
     "data": {
      "text/html": [
       "<div>\n",
       "<style scoped>\n",
       "    .dataframe tbody tr th:only-of-type {\n",
       "        vertical-align: middle;\n",
       "    }\n",
       "\n",
       "    .dataframe tbody tr th {\n",
       "        vertical-align: top;\n",
       "    }\n",
       "\n",
       "    .dataframe thead th {\n",
       "        text-align: right;\n",
       "    }\n",
       "</style>\n",
       "<table border=\"1\" class=\"dataframe\">\n",
       "  <thead>\n",
       "    <tr style=\"text-align: right;\">\n",
       "      <th></th>\n",
       "      <th>Male</th>\n",
       "      <th>Age</th>\n",
       "      <th>Debt</th>\n",
       "      <th>Married</th>\n",
       "      <th>BankCustomer</th>\n",
       "      <th>EducationLevel</th>\n",
       "      <th>Ethnicity</th>\n",
       "      <th>YearsEmployed</th>\n",
       "      <th>PriorDefault</th>\n",
       "      <th>Employed</th>\n",
       "      <th>CreditScore</th>\n",
       "      <th>DriversLicense</th>\n",
       "      <th>Citizen</th>\n",
       "      <th>ZipCode</th>\n",
       "      <th>Income</th>\n",
       "    </tr>\n",
       "  </thead>\n",
       "  <tbody>\n",
       "    <tr>\n",
       "      <th>count</th>\n",
       "      <td>1000.000000</td>\n",
       "      <td>1000.000000</td>\n",
       "      <td>1000.000000</td>\n",
       "      <td>1000.000000</td>\n",
       "      <td>1000.000000</td>\n",
       "      <td>1000.000000</td>\n",
       "      <td>1000.000000</td>\n",
       "      <td>1000.000000</td>\n",
       "      <td>1000.00000</td>\n",
       "      <td>1000.000000</td>\n",
       "      <td>1000.000000</td>\n",
       "      <td>1000.000000</td>\n",
       "      <td>1000.000000</td>\n",
       "      <td>1000.000000</td>\n",
       "      <td>1000.000000</td>\n",
       "    </tr>\n",
       "    <tr>\n",
       "      <th>mean</th>\n",
       "      <td>0.472000</td>\n",
       "      <td>32.031124</td>\n",
       "      <td>4.468732</td>\n",
       "      <td>0.984000</td>\n",
       "      <td>0.981000</td>\n",
       "      <td>6.451000</td>\n",
       "      <td>4.027000</td>\n",
       "      <td>2.250091</td>\n",
       "      <td>0.52000</td>\n",
       "      <td>0.514000</td>\n",
       "      <td>33.323000</td>\n",
       "      <td>0.493000</td>\n",
       "      <td>1.035000</td>\n",
       "      <td>84.992000</td>\n",
       "      <td>25441.280000</td>\n",
       "    </tr>\n",
       "    <tr>\n",
       "      <th>std</th>\n",
       "      <td>0.499465</td>\n",
       "      <td>11.965365</td>\n",
       "      <td>4.773155</td>\n",
       "      <td>0.798988</td>\n",
       "      <td>0.819335</td>\n",
       "      <td>4.139896</td>\n",
       "      <td>2.685793</td>\n",
       "      <td>3.172188</td>\n",
       "      <td>0.49985</td>\n",
       "      <td>0.500054</td>\n",
       "      <td>19.549395</td>\n",
       "      <td>0.500201</td>\n",
       "      <td>0.801509</td>\n",
       "      <td>49.066031</td>\n",
       "      <td>15301.714016</td>\n",
       "    </tr>\n",
       "    <tr>\n",
       "      <th>min</th>\n",
       "      <td>0.000000</td>\n",
       "      <td>-5.473756</td>\n",
       "      <td>-10.118394</td>\n",
       "      <td>0.000000</td>\n",
       "      <td>0.000000</td>\n",
       "      <td>0.000000</td>\n",
       "      <td>0.000000</td>\n",
       "      <td>-7.828309</td>\n",
       "      <td>0.00000</td>\n",
       "      <td>0.000000</td>\n",
       "      <td>0.000000</td>\n",
       "      <td>0.000000</td>\n",
       "      <td>0.000000</td>\n",
       "      <td>0.000000</td>\n",
       "      <td>15.000000</td>\n",
       "    </tr>\n",
       "    <tr>\n",
       "      <th>25%</th>\n",
       "      <td>0.000000</td>\n",
       "      <td>23.867486</td>\n",
       "      <td>1.288286</td>\n",
       "      <td>0.000000</td>\n",
       "      <td>0.000000</td>\n",
       "      <td>3.000000</td>\n",
       "      <td>2.000000</td>\n",
       "      <td>0.117706</td>\n",
       "      <td>0.00000</td>\n",
       "      <td>0.000000</td>\n",
       "      <td>16.000000</td>\n",
       "      <td>0.000000</td>\n",
       "      <td>0.000000</td>\n",
       "      <td>43.750000</td>\n",
       "      <td>11938.250000</td>\n",
       "    </tr>\n",
       "    <tr>\n",
       "      <th>50%</th>\n",
       "      <td>0.000000</td>\n",
       "      <td>32.510950</td>\n",
       "      <td>4.569552</td>\n",
       "      <td>1.000000</td>\n",
       "      <td>1.000000</td>\n",
       "      <td>6.500000</td>\n",
       "      <td>4.000000</td>\n",
       "      <td>2.322288</td>\n",
       "      <td>1.00000</td>\n",
       "      <td>1.000000</td>\n",
       "      <td>33.000000</td>\n",
       "      <td>0.000000</td>\n",
       "      <td>1.000000</td>\n",
       "      <td>86.000000</td>\n",
       "      <td>24882.000000</td>\n",
       "    </tr>\n",
       "    <tr>\n",
       "      <th>75%</th>\n",
       "      <td>1.000000</td>\n",
       "      <td>40.071209</td>\n",
       "      <td>7.687575</td>\n",
       "      <td>2.000000</td>\n",
       "      <td>2.000000</td>\n",
       "      <td>10.000000</td>\n",
       "      <td>6.000000</td>\n",
       "      <td>4.397632</td>\n",
       "      <td>1.00000</td>\n",
       "      <td>1.000000</td>\n",
       "      <td>50.000000</td>\n",
       "      <td>1.000000</td>\n",
       "      <td>2.000000</td>\n",
       "      <td>127.000000</td>\n",
       "      <td>39570.500000</td>\n",
       "    </tr>\n",
       "    <tr>\n",
       "      <th>max</th>\n",
       "      <td>1.000000</td>\n",
       "      <td>70.432119</td>\n",
       "      <td>17.983044</td>\n",
       "      <td>2.000000</td>\n",
       "      <td>2.000000</td>\n",
       "      <td>13.000000</td>\n",
       "      <td>8.000000</td>\n",
       "      <td>12.924159</td>\n",
       "      <td>1.00000</td>\n",
       "      <td>1.000000</td>\n",
       "      <td>67.000000</td>\n",
       "      <td>1.000000</td>\n",
       "      <td>2.000000</td>\n",
       "      <td>169.000000</td>\n",
       "      <td>51044.000000</td>\n",
       "    </tr>\n",
       "  </tbody>\n",
       "</table>\n",
       "</div>"
      ],
      "text/plain": [
       "              Male          Age         Debt      Married  BankCustomer  \\\n",
       "count  1000.000000  1000.000000  1000.000000  1000.000000   1000.000000   \n",
       "mean      0.472000    32.031124     4.468732     0.984000      0.981000   \n",
       "std       0.499465    11.965365     4.773155     0.798988      0.819335   \n",
       "min       0.000000    -5.473756   -10.118394     0.000000      0.000000   \n",
       "25%       0.000000    23.867486     1.288286     0.000000      0.000000   \n",
       "50%       0.000000    32.510950     4.569552     1.000000      1.000000   \n",
       "75%       1.000000    40.071209     7.687575     2.000000      2.000000   \n",
       "max       1.000000    70.432119    17.983044     2.000000      2.000000   \n",
       "\n",
       "       EducationLevel    Ethnicity  YearsEmployed  PriorDefault     Employed  \\\n",
       "count     1000.000000  1000.000000    1000.000000    1000.00000  1000.000000   \n",
       "mean         6.451000     4.027000       2.250091       0.52000     0.514000   \n",
       "std          4.139896     2.685793       3.172188       0.49985     0.500054   \n",
       "min          0.000000     0.000000      -7.828309       0.00000     0.000000   \n",
       "25%          3.000000     2.000000       0.117706       0.00000     0.000000   \n",
       "50%          6.500000     4.000000       2.322288       1.00000     1.000000   \n",
       "75%         10.000000     6.000000       4.397632       1.00000     1.000000   \n",
       "max         13.000000     8.000000      12.924159       1.00000     1.000000   \n",
       "\n",
       "       CreditScore  DriversLicense      Citizen      ZipCode        Income  \n",
       "count  1000.000000     1000.000000  1000.000000  1000.000000   1000.000000  \n",
       "mean     33.323000        0.493000     1.035000    84.992000  25441.280000  \n",
       "std      19.549395        0.500201     0.801509    49.066031  15301.714016  \n",
       "min       0.000000        0.000000     0.000000     0.000000     15.000000  \n",
       "25%      16.000000        0.000000     0.000000    43.750000  11938.250000  \n",
       "50%      33.000000        0.000000     1.000000    86.000000  24882.000000  \n",
       "75%      50.000000        1.000000     2.000000   127.000000  39570.500000  \n",
       "max      67.000000        1.000000     2.000000   169.000000  51044.000000  "
      ]
     },
     "execution_count": 11,
     "metadata": {},
     "output_type": "execute_result"
    }
   ],
   "source": [
    "X_new = ops.data_generator_fd(data)\n",
    "X_new.describe()"
   ]
  },
  {
   "cell_type": "code",
   "execution_count": 12,
   "metadata": {},
   "outputs": [
    {
     "data": {
      "image/png": "[encoded data removed]",
      "text/plain": [
       "<Figure size 432x288 with 1 Axes>"
      ]
     },
     "metadata": {
      "needs_background": "light"
     },
     "output_type": "display_data"
    }
   ],
   "source": [
    "ops.plot_feature_importance(x='feature', y='importance', data=ops.feature_importance(lr, X_new))"
   ]
  },
  {
   "cell_type": "code",
   "execution_count": 13,
   "metadata": {},
   "outputs": [
    {
     "data": {
      "text/html": [
       "<div>\n",
       "<style scoped>\n",
       "    .dataframe tbody tr th:only-of-type {\n",
       "        vertical-align: middle;\n",
       "    }\n",
       "\n",
       "    .dataframe tbody tr th {\n",
       "        vertical-align: top;\n",
       "    }\n",
       "\n",
       "    .dataframe thead th {\n",
       "        text-align: right;\n",
       "    }\n",
       "</style>\n",
       "<table border=\"1\" class=\"dataframe\">\n",
       "  <thead>\n",
       "    <tr style=\"text-align: right;\">\n",
       "      <th></th>\n",
       "      <th>Male</th>\n",
       "      <th>Age</th>\n",
       "      <th>Debt</th>\n",
       "      <th>Married</th>\n",
       "      <th>BankCustomer</th>\n",
       "      <th>EducationLevel</th>\n",
       "      <th>Ethnicity</th>\n",
       "      <th>YearsEmployed</th>\n",
       "      <th>PriorDefault</th>\n",
       "      <th>Employed</th>\n",
       "      <th>CreditScore</th>\n",
       "      <th>DriversLicense</th>\n",
       "      <th>Citizen</th>\n",
       "      <th>ZipCode</th>\n",
       "      <th>Income</th>\n",
       "      <th>Pred</th>\n",
       "    </tr>\n",
       "  </thead>\n",
       "  <tbody>\n",
       "    <tr>\n",
       "      <th>0</th>\n",
       "      <td>0</td>\n",
       "      <td>50.086279</td>\n",
       "      <td>7.387547</td>\n",
       "      <td>2</td>\n",
       "      <td>0</td>\n",
       "      <td>12</td>\n",
       "      <td>6</td>\n",
       "      <td>2.376328</td>\n",
       "      <td>1</td>\n",
       "      <td>1</td>\n",
       "      <td>38</td>\n",
       "      <td>0</td>\n",
       "      <td>1</td>\n",
       "      <td>5</td>\n",
       "      <td>29469</td>\n",
       "      <td>0</td>\n",
       "    </tr>\n",
       "    <tr>\n",
       "      <th>1</th>\n",
       "      <td>1</td>\n",
       "      <td>35.119213</td>\n",
       "      <td>10.450099</td>\n",
       "      <td>1</td>\n",
       "      <td>1</td>\n",
       "      <td>11</td>\n",
       "      <td>0</td>\n",
       "      <td>-2.116801</td>\n",
       "      <td>1</td>\n",
       "      <td>0</td>\n",
       "      <td>27</td>\n",
       "      <td>1</td>\n",
       "      <td>1</td>\n",
       "      <td>94</td>\n",
       "      <td>33996</td>\n",
       "      <td>0</td>\n",
       "    </tr>\n",
       "    <tr>\n",
       "      <th>2</th>\n",
       "      <td>1</td>\n",
       "      <td>22.050783</td>\n",
       "      <td>7.932599</td>\n",
       "      <td>2</td>\n",
       "      <td>1</td>\n",
       "      <td>10</td>\n",
       "      <td>8</td>\n",
       "      <td>3.994158</td>\n",
       "      <td>1</td>\n",
       "      <td>1</td>\n",
       "      <td>37</td>\n",
       "      <td>0</td>\n",
       "      <td>1</td>\n",
       "      <td>39</td>\n",
       "      <td>20799</td>\n",
       "      <td>0</td>\n",
       "    </tr>\n",
       "    <tr>\n",
       "      <th>3</th>\n",
       "      <td>0</td>\n",
       "      <td>26.144043</td>\n",
       "      <td>4.014169</td>\n",
       "      <td>2</td>\n",
       "      <td>2</td>\n",
       "      <td>1</td>\n",
       "      <td>0</td>\n",
       "      <td>-2.774414</td>\n",
       "      <td>1</td>\n",
       "      <td>0</td>\n",
       "      <td>65</td>\n",
       "      <td>0</td>\n",
       "      <td>0</td>\n",
       "      <td>1</td>\n",
       "      <td>22979</td>\n",
       "      <td>0</td>\n",
       "    </tr>\n",
       "    <tr>\n",
       "      <th>4</th>\n",
       "      <td>0</td>\n",
       "      <td>30.424791</td>\n",
       "      <td>-1.316719</td>\n",
       "      <td>0</td>\n",
       "      <td>2</td>\n",
       "      <td>0</td>\n",
       "      <td>8</td>\n",
       "      <td>0.361104</td>\n",
       "      <td>1</td>\n",
       "      <td>0</td>\n",
       "      <td>24</td>\n",
       "      <td>0</td>\n",
       "      <td>0</td>\n",
       "      <td>81</td>\n",
       "      <td>2865</td>\n",
       "      <td>0</td>\n",
       "    </tr>\n",
       "    <tr>\n",
       "      <th>5</th>\n",
       "      <td>0</td>\n",
       "      <td>40.273311</td>\n",
       "      <td>1.107160</td>\n",
       "      <td>1</td>\n",
       "      <td>1</td>\n",
       "      <td>8</td>\n",
       "      <td>1</td>\n",
       "      <td>0.142672</td>\n",
       "      <td>1</td>\n",
       "      <td>1</td>\n",
       "      <td>9</td>\n",
       "      <td>1</td>\n",
       "      <td>1</td>\n",
       "      <td>62</td>\n",
       "      <td>2845</td>\n",
       "      <td>0</td>\n",
       "    </tr>\n",
       "    <tr>\n",
       "      <th>6</th>\n",
       "      <td>0</td>\n",
       "      <td>19.543258</td>\n",
       "      <td>-9.710943</td>\n",
       "      <td>1</td>\n",
       "      <td>1</td>\n",
       "      <td>2</td>\n",
       "      <td>3</td>\n",
       "      <td>3.914351</td>\n",
       "      <td>1</td>\n",
       "      <td>0</td>\n",
       "      <td>14</td>\n",
       "      <td>0</td>\n",
       "      <td>1</td>\n",
       "      <td>165</td>\n",
       "      <td>6289</td>\n",
       "      <td>0</td>\n",
       "    </tr>\n",
       "    <tr>\n",
       "      <th>7</th>\n",
       "      <td>0</td>\n",
       "      <td>18.893136</td>\n",
       "      <td>6.119417</td>\n",
       "      <td>1</td>\n",
       "      <td>1</td>\n",
       "      <td>5</td>\n",
       "      <td>5</td>\n",
       "      <td>6.213175</td>\n",
       "      <td>1</td>\n",
       "      <td>1</td>\n",
       "      <td>67</td>\n",
       "      <td>0</td>\n",
       "      <td>1</td>\n",
       "      <td>102</td>\n",
       "      <td>11307</td>\n",
       "      <td>0</td>\n",
       "    </tr>\n",
       "    <tr>\n",
       "      <th>8</th>\n",
       "      <td>0</td>\n",
       "      <td>49.740500</td>\n",
       "      <td>9.047217</td>\n",
       "      <td>0</td>\n",
       "      <td>1</td>\n",
       "      <td>11</td>\n",
       "      <td>8</td>\n",
       "      <td>2.921239</td>\n",
       "      <td>1</td>\n",
       "      <td>0</td>\n",
       "      <td>62</td>\n",
       "      <td>0</td>\n",
       "      <td>0</td>\n",
       "      <td>61</td>\n",
       "      <td>40252</td>\n",
       "      <td>0</td>\n",
       "    </tr>\n",
       "    <tr>\n",
       "      <th>9</th>\n",
       "      <td>1</td>\n",
       "      <td>15.849249</td>\n",
       "      <td>3.319018</td>\n",
       "      <td>2</td>\n",
       "      <td>2</td>\n",
       "      <td>1</td>\n",
       "      <td>7</td>\n",
       "      <td>3.856131</td>\n",
       "      <td>1</td>\n",
       "      <td>0</td>\n",
       "      <td>55</td>\n",
       "      <td>1</td>\n",
       "      <td>1</td>\n",
       "      <td>53</td>\n",
       "      <td>46468</td>\n",
       "      <td>0</td>\n",
       "    </tr>\n",
       "  </tbody>\n",
       "</table>\n",
       "</div>"
      ],
      "text/plain": [
       "   Male        Age       Debt  Married  BankCustomer  EducationLevel  \\\n",
       "0     0  50.086279   7.387547        2             0              12   \n",
       "1     1  35.119213  10.450099        1             1              11   \n",
       "2     1  22.050783   7.932599        2             1              10   \n",
       "3     0  26.144043   4.014169        2             2               1   \n",
       "4     0  30.424791  -1.316719        0             2               0   \n",
       "5     0  40.273311   1.107160        1             1               8   \n",
       "6     0  19.543258  -9.710943        1             1               2   \n",
       "7     0  18.893136   6.119417        1             1               5   \n",
       "8     0  49.740500   9.047217        0             1              11   \n",
       "9     1  15.849249   3.319018        2             2               1   \n",
       "\n",
       "   Ethnicity  YearsEmployed  PriorDefault  Employed  CreditScore  \\\n",
       "0          6       2.376328             1         1           38   \n",
       "1          0      -2.116801             1         0           27   \n",
       "2          8       3.994158             1         1           37   \n",
       "3          0      -2.774414             1         0           65   \n",
       "4          8       0.361104             1         0           24   \n",
       "5          1       0.142672             1         1            9   \n",
       "6          3       3.914351             1         0           14   \n",
       "7          5       6.213175             1         1           67   \n",
       "8          8       2.921239             1         0           62   \n",
       "9          7       3.856131             1         0           55   \n",
       "\n",
       "   DriversLicense  Citizen  ZipCode  Income  Pred  \n",
       "0               0        1        5   29469     0  \n",
       "1               1        1       94   33996     0  \n",
       "2               0        1       39   20799     0  \n",
       "3               0        0        1   22979     0  \n",
       "4               0        0       81    2865     0  \n",
       "5               1        1       62    2845     0  \n",
       "6               0        1      165    6289     0  \n",
       "7               0        1      102   11307     0  \n",
       "8               0        0       61   40252     0  \n",
       "9               1        1       53   46468     0  "
      ]
     },
     "execution_count": 13,
     "metadata": {},
     "output_type": "execute_result"
    }
   ],
   "source": [
    "pred_n = ops.create_eval(lr, X_new)\n",
    "pred_n.head(10)"
   ]
  },
  {
   "cell_type": "code",
   "execution_count": 14,
   "metadata": {},
   "outputs": [
    {
     "name": "stdout",
     "output_type": "stream",
     "text": [
      "1-min(DI, 1/DI): 0.17\n",
      "The algorithm can be considered to be not biased\n"
     ]
    }
   ],
   "source": [
    "ops.calc_disparity_index(pred_n, 'Pred', 'Ethnicity', 4)"
   ]
  },
  {
   "cell_type": "code",
   "execution_count": 15,
   "metadata": {},
   "outputs": [
    {
     "name": "stdout",
     "output_type": "stream",
     "text": [
      "0.002\n",
      "The algorithm can be considered to be not biased\n"
     ]
    }
   ],
   "source": [
    "ops.calc_stat_parity(pred_n, 'Pred', 'Ethnicity',4)"
   ]
  },
  {
   "cell_type": "code",
   "execution_count": 16,
   "metadata": {},
   "outputs": [
    {
     "name": "stdout",
     "output_type": "stream",
     "text": [
      "0.002\n",
      "The algorithm can be considered to be not biased\n"
     ]
    }
   ],
   "source": [
    "ops.calc_mean_diff(pred_n, 'Pred', 'Ethnicity',4)"
   ]
  },
  {
   "cell_type": "code",
   "execution_count": 17,
   "metadata": {},
   "outputs": [
    {
     "name": "stdout",
     "output_type": "stream",
     "text": [
      "-0.0022222222222222222\n",
      "The algorithm can be considered to be not biased\n"
     ]
    }
   ],
   "source": [
    "ops.equal_opportunity(X_new, pred_n, 'Pred', 'Ethnicity', 4)"
   ]
  },
  {
   "cell_type": "code",
   "execution_count": 18,
   "metadata": {},
   "outputs": [
    {
     "name": "stdout",
     "output_type": "stream",
     "text": [
      "0.024460962550169735\n",
      "The algorithm can be considered to be not biased\n"
     ]
    }
   ],
   "source": [
    "ops.coeff_variation(X_new, pred_n, 'Pred', 'Ethnicity', 4)"
   ]
  },
  {
   "cell_type": "code",
   "execution_count": 20,
   "metadata": {},
   "outputs": [
    {
     "name": "stdout",
     "output_type": "stream",
     "text": [
      "Mean difference (mean label value on privileged instances - mean label value on unprivileged instances): 0.0018082757972852376\n",
      "Consistency (Zemel, et al. 2013): [0.9872]\n",
      "Number of positive-outcome instances: 9.0\n",
      "Number of instances: 1000.0\n",
      "Disparate impact (probability of favorable outcome for unprivileged instances / probability of favorable outcome for privileged instances): 1.2047872340425532\n",
      "Statistical parity difference (probability of favorable outcome for unprivileged instances - probability of favorable outcome for privileged instances): 0.0018082757972852376\n",
      "Number of negative-outcome instances: 991.0\n"
     ]
    }
   ],
   "source": [
    "bina = ops.create_binary(pred_n, 'Pred', 'Ethnicity', 4)\n",
    "ops.MetricTextExplainer_(bina).explain()"
   ]
  },
  {
   "cell_type": "markdown",
   "metadata": {},
   "source": [
    "# Case Study 3 - Generic User Input"
   ]
  },
  {
   "cell_type": "code",
   "execution_count": 6,
   "metadata": {},
   "outputs": [],
   "source": [
    "mock = pd.read_csv('mock_input.csv')\n",
    "#mock"
   ]
  },
  {
   "cell_type": "code",
   "execution_count": 7,
   "metadata": {},
   "outputs": [],
   "source": [
    "X_new = ops.data_input(mock)\n",
    "#print('The basic description of your simulated data is as follows:')\n",
    "#X_new.describe()"
   ]
  },
  {
   "cell_type": "code",
   "execution_count": 8,
   "metadata": {},
   "outputs": [
    {
     "name": "stdout",
     "output_type": "stream",
     "text": [
      "The protected column is: column1\n"
     ]
    },
    {
     "data": {
      "image/png": "[encoded data removed]",
      "text/plain": [
       "<Figure size 432x288 with 1 Axes>"
      ]
     },
     "metadata": {
      "needs_background": "light"
     },
     "output_type": "display_data"
    }
   ],
   "source": [
    "for c in mock[mock['protected']]['col_id']: c\n",
    "ops.plot_feature_importance(x='feature', y='importance', data=ops.feature_importance(lr, X_new))\n",
    "print('The protected column is:', c)"
   ]
  },
  {
   "cell_type": "code",
   "execution_count": 9,
   "metadata": {},
   "outputs": [
    {
     "name": "stdout",
     "output_type": "stream",
     "text": [
      "With an iteration of 100, the values\n",
      "of the disparity index are shown below:\n"
     ]
    },
    {
     "data": {
      "image/png": "[encoded data removed]",
      "text/plain": [
       "<Figure size 432x288 with 1 Axes>"
      ]
     },
     "metadata": {},
     "output_type": "display_data"
    },
    {
     "name": "stdout",
     "output_type": "stream",
     "text": [
      "With an iteration of 100, the values\n",
      "of the mean difference are shown below:\n"
     ]
    },
    {
     "data": {
      "image/png": "[encoded data removed]",
      "text/plain": [
       "<Figure size 432x288 with 1 Axes>"
      ]
     },
     "metadata": {},
     "output_type": "display_data"
    },
    {
     "name": "stdout",
     "output_type": "stream",
     "text": [
      "With an iteration of 100, the values\n",
      "of the equal opportunity are shown below:\n"
     ]
    },
    {
     "data": {
      "image/png": "[encoded data removed]",
      "text/plain": [
       "<Figure size 432x288 with 1 Axes>"
      ]
     },
     "metadata": {},
     "output_type": "display_data"
    }
   ],
   "source": [
    "ops.create_boxplots(mock,lr,0)"
   ]
  },
  {
   "cell_type": "code",
   "execution_count": 8,
   "metadata": {},
   "outputs": [
    {
     "data": {
      "text/html": [
       "<div>\n",
       "<style scoped>\n",
       "    .dataframe tbody tr th:only-of-type {\n",
       "        vertical-align: middle;\n",
       "    }\n",
       "\n",
       "    .dataframe tbody tr th {\n",
       "        vertical-align: top;\n",
       "    }\n",
       "\n",
       "    .dataframe thead th {\n",
       "        text-align: right;\n",
       "    }\n",
       "</style>\n",
       "<table border=\"1\" class=\"dataframe\">\n",
       "  <thead>\n",
       "    <tr style=\"text-align: right;\">\n",
       "      <th></th>\n",
       "      <th>disparity_index</th>\n",
       "      <th>mean_difference</th>\n",
       "      <th>equal_opportunity</th>\n",
       "      <th>positive_outcomes</th>\n",
       "    </tr>\n",
       "    <tr>\n",
       "      <th>request_id</th>\n",
       "      <th></th>\n",
       "      <th></th>\n",
       "      <th></th>\n",
       "      <th></th>\n",
       "    </tr>\n",
       "  </thead>\n",
       "  <tbody>\n",
       "    <tr>\n",
       "      <th>30</th>\n",
       "      <td>0.0277</td>\n",
       "      <td>0.02082</td>\n",
       "      <td>0.030492</td>\n",
       "      <td>0.748</td>\n",
       "    </tr>\n",
       "  </tbody>\n",
       "</table>\n",
       "</div>"
      ],
      "text/plain": [
       "            disparity_index  mean_difference  equal_opportunity  \\\n",
       "request_id                                                        \n",
       "30                   0.0277          0.02082           0.030492   \n",
       "\n",
       "            positive_outcomes  \n",
       "request_id                     \n",
       "30                      0.748  "
      ]
     },
     "execution_count": 8,
     "metadata": {},
     "output_type": "execute_result"
    }
   ],
   "source": [
    "ops.create_output(mock, lr, 0, 30)"
   ]
  }
 ],
 "metadata": {
  "kernelspec": {
   "display_name": "Python 3",
   "language": "python",
   "name": "python3"
  },
  "language_info": {
   "codemirror_mode": {
    "name": "ipython",
    "version": 3
   },
   "file_extension": ".py",
   "mimetype": "text/x-python",
   "name": "python",
   "nbconvert_exporter": "python",
   "pygments_lexer": "ipython3",
   "version": "3.7.3"
  }
 },
 "nbformat": 4,
 "nbformat_minor": 2
}

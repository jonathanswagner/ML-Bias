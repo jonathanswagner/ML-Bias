{
 "cells": [
  {
   "cell_type": "code",
   "execution_count": 1,
   "metadata": {},
   "outputs": [],
   "source": [
    "from joblib import load\n",
    "import pandas as pd\n",
    "import code.operators as ops"
   ]
  },
  {
   "cell_type": "code",
   "execution_count": 2,
   "metadata": {},
   "outputs": [],
   "source": [
    "data = pd.read_csv('x_train.csv', index_col=['Loan_ID'])\n",
    "svc_bias = load('svc_loan_bias.joblib')\n",
    "lr_bias = load('lr_loan_bias.joblib')\n",
    "lr = load('lr_loan.joblib')\n",
    "svc = load('svc_loan.joblib')"
   ]
  },
  {
   "cell_type": "code",
   "execution_count": 3,
   "metadata": {},
   "outputs": [],
   "source": [
    "X_new = ops.data_generator_fd(data)"
   ]
  },
  {
   "cell_type": "code",
   "execution_count": 4,
   "metadata": {},
   "outputs": [
    {
     "data": {
      "text/html": [
       "<div>\n",
       "<style scoped>\n",
       "    .dataframe tbody tr th:only-of-type {\n",
       "        vertical-align: middle;\n",
       "    }\n",
       "\n",
       "    .dataframe tbody tr th {\n",
       "        vertical-align: top;\n",
       "    }\n",
       "\n",
       "    .dataframe thead th {\n",
       "        text-align: right;\n",
       "    }\n",
       "</style>\n",
       "<table border=\"1\" class=\"dataframe\">\n",
       "  <thead>\n",
       "    <tr style=\"text-align: right;\">\n",
       "      <th></th>\n",
       "      <th>Gender</th>\n",
       "      <th>Education</th>\n",
       "      <th>Self_Employed</th>\n",
       "      <th>Credit_History</th>\n",
       "      <th>Property_Area_Semiurban</th>\n",
       "      <th>Property_Area_Urban</th>\n",
       "      <th>ln_monthly_return</th>\n",
       "      <th>ln_total_income</th>\n",
       "      <th>ln_LoanAmount</th>\n",
       "    </tr>\n",
       "  </thead>\n",
       "  <tbody>\n",
       "    <tr>\n",
       "      <th>count</th>\n",
       "      <td>1000.000000</td>\n",
       "      <td>1000.000000</td>\n",
       "      <td>1000.000000</td>\n",
       "      <td>1000.000000</td>\n",
       "      <td>1000.000000</td>\n",
       "      <td>1000.000000</td>\n",
       "      <td>1000.000000</td>\n",
       "      <td>1000.000000</td>\n",
       "      <td>1000.000000</td>\n",
       "    </tr>\n",
       "    <tr>\n",
       "      <th>mean</th>\n",
       "      <td>0.517000</td>\n",
       "      <td>0.497000</td>\n",
       "      <td>0.492000</td>\n",
       "      <td>0.509000</td>\n",
       "      <td>0.497000</td>\n",
       "      <td>0.478000</td>\n",
       "      <td>-0.369915</td>\n",
       "      <td>0.452166</td>\n",
       "      <td>-1.052479</td>\n",
       "    </tr>\n",
       "    <tr>\n",
       "      <th>std</th>\n",
       "      <td>0.499961</td>\n",
       "      <td>0.500241</td>\n",
       "      <td>0.500186</td>\n",
       "      <td>0.500169</td>\n",
       "      <td>0.500241</td>\n",
       "      <td>0.499766</td>\n",
       "      <td>23.063875</td>\n",
       "      <td>21.684359</td>\n",
       "      <td>22.152306</td>\n",
       "    </tr>\n",
       "    <tr>\n",
       "      <th>min</th>\n",
       "      <td>0.000000</td>\n",
       "      <td>0.000000</td>\n",
       "      <td>0.000000</td>\n",
       "      <td>0.000000</td>\n",
       "      <td>0.000000</td>\n",
       "      <td>0.000000</td>\n",
       "      <td>-76.214612</td>\n",
       "      <td>-70.741711</td>\n",
       "      <td>-87.870844</td>\n",
       "    </tr>\n",
       "    <tr>\n",
       "      <th>25%</th>\n",
       "      <td>0.000000</td>\n",
       "      <td>0.000000</td>\n",
       "      <td>0.000000</td>\n",
       "      <td>0.000000</td>\n",
       "      <td>0.000000</td>\n",
       "      <td>0.000000</td>\n",
       "      <td>-14.861782</td>\n",
       "      <td>-13.483990</td>\n",
       "      <td>-15.437003</td>\n",
       "    </tr>\n",
       "    <tr>\n",
       "      <th>50%</th>\n",
       "      <td>1.000000</td>\n",
       "      <td>0.000000</td>\n",
       "      <td>0.000000</td>\n",
       "      <td>1.000000</td>\n",
       "      <td>0.000000</td>\n",
       "      <td>0.000000</td>\n",
       "      <td>-1.148434</td>\n",
       "      <td>0.975914</td>\n",
       "      <td>-1.257119</td>\n",
       "    </tr>\n",
       "    <tr>\n",
       "      <th>75%</th>\n",
       "      <td>1.000000</td>\n",
       "      <td>1.000000</td>\n",
       "      <td>1.000000</td>\n",
       "      <td>1.000000</td>\n",
       "      <td>1.000000</td>\n",
       "      <td>1.000000</td>\n",
       "      <td>14.221341</td>\n",
       "      <td>14.970044</td>\n",
       "      <td>13.579945</td>\n",
       "    </tr>\n",
       "    <tr>\n",
       "      <th>max</th>\n",
       "      <td>1.000000</td>\n",
       "      <td>1.000000</td>\n",
       "      <td>1.000000</td>\n",
       "      <td>1.000000</td>\n",
       "      <td>1.000000</td>\n",
       "      <td>1.000000</td>\n",
       "      <td>72.101471</td>\n",
       "      <td>75.330971</td>\n",
       "      <td>74.622193</td>\n",
       "    </tr>\n",
       "  </tbody>\n",
       "</table>\n",
       "</div>"
      ],
      "text/plain": [
       "            Gender    Education  Self_Employed  Credit_History  \\\n",
       "count  1000.000000  1000.000000    1000.000000     1000.000000   \n",
       "mean      0.517000     0.497000       0.492000        0.509000   \n",
       "std       0.499961     0.500241       0.500186        0.500169   \n",
       "min       0.000000     0.000000       0.000000        0.000000   \n",
       "25%       0.000000     0.000000       0.000000        0.000000   \n",
       "50%       1.000000     0.000000       0.000000        1.000000   \n",
       "75%       1.000000     1.000000       1.000000        1.000000   \n",
       "max       1.000000     1.000000       1.000000        1.000000   \n",
       "\n",
       "       Property_Area_Semiurban  Property_Area_Urban  ln_monthly_return  \\\n",
       "count              1000.000000          1000.000000        1000.000000   \n",
       "mean                  0.497000             0.478000          -0.369915   \n",
       "std                   0.500241             0.499766          23.063875   \n",
       "min                   0.000000             0.000000         -76.214612   \n",
       "25%                   0.000000             0.000000         -14.861782   \n",
       "50%                   0.000000             0.000000          -1.148434   \n",
       "75%                   1.000000             1.000000          14.221341   \n",
       "max                   1.000000             1.000000          72.101471   \n",
       "\n",
       "       ln_total_income  ln_LoanAmount  \n",
       "count      1000.000000    1000.000000  \n",
       "mean          0.452166      -1.052479  \n",
       "std          21.684359      22.152306  \n",
       "min         -70.741711     -87.870844  \n",
       "25%         -13.483990     -15.437003  \n",
       "50%           0.975914      -1.257119  \n",
       "75%          14.970044      13.579945  \n",
       "max          75.330971      74.622193  "
      ]
     },
     "execution_count": 4,
     "metadata": {},
     "output_type": "execute_result"
    }
   ],
   "source": [
    "X_new.describe()"
   ]
  },
  {
   "cell_type": "code",
   "execution_count": 5,
   "metadata": {},
   "outputs": [],
   "source": [
    "pred_n_bias = ops.create_eval(svc_bias, X_new)"
   ]
  },
  {
   "cell_type": "code",
   "execution_count": 6,
   "metadata": {},
   "outputs": [
    {
     "name": "stdout",
     "output_type": "stream",
     "text": [
      "1-min(DI, 1/DI): 0.931\n",
      "There is a potential bias\n"
     ]
    }
   ],
   "source": [
    "ops.calc_disparity_index(pred_n_bias, 'Pred', 'Gender',1,0)"
   ]
  },
  {
   "cell_type": "code",
   "execution_count": 7,
   "metadata": {},
   "outputs": [
    {
     "name": "stdout",
     "output_type": "stream",
     "text": [
      "-0.448\n",
      "The algorithm can be considered to be not biased\n"
     ]
    }
   ],
   "source": [
    "ops.calc_stat_parity(pred_n_bias, 'Pred', 'Gender',1,0)"
   ]
  },
  {
   "cell_type": "code",
   "execution_count": 8,
   "metadata": {},
   "outputs": [
    {
     "name": "stdout",
     "output_type": "stream",
     "text": [
      "-0.448\n",
      "There is a potential bias\n"
     ]
    }
   ],
   "source": [
    "ops.calc_mean_diff(pred_n_bias, 'Pred', 'Gender',1,0)"
   ]
  },
  {
   "cell_type": "code",
   "execution_count": 9,
   "metadata": {},
   "outputs": [
    {
     "name": "stdout",
     "output_type": "stream",
     "text": [
      "-0.4229117647058824\n",
      "There is a potential bias\n"
     ]
    }
   ],
   "source": [
    "ops.equal_opportunity(X_new, pred_n_bias, 'Pred', 'Gender', 1, 0)"
   ]
  },
  {
   "cell_type": "code",
   "execution_count": 10,
   "metadata": {},
   "outputs": [
    {
     "name": "stdout",
     "output_type": "stream",
     "text": [
      "0.4099123371747292\n",
      "There is a potential bias\n"
     ]
    }
   ],
   "source": [
    "ops.coeff_variation(X_new, pred_n_bias, 'Pred', 'Gender', 1, 0)"
   ]
  },
  {
   "cell_type": "code",
   "execution_count": 16,
   "metadata": {},
   "outputs": [],
   "source": [
    "bina = ops.create_binary(pred_n_bias, 'Pred', 'Gender', 1, 0)"
   ]
  },
  {
   "cell_type": "code",
   "execution_count": 17,
   "metadata": {},
   "outputs": [
    {
     "name": "stdout",
     "output_type": "stream",
     "text": [
      "Number of instances: 1000.0\n",
      "Statistical parity difference (probability of favorable outcome for unprivileged instances - probability of favorable outcome for privileged instances): -0.4484984642246437\n",
      "Number of positive-outcome instances: 265.0\n",
      "Number of negative-outcome instances: 735.0\n",
      "Mean difference (mean label value on privileged instances - mean label value on unprivileged instances): -0.4484984642246437\n",
      "Disparate impact (probability of favorable outcome for unprivileged instances / probability of favorable outcome for privileged instances): 0.06878029717212536\n",
      "Consistency (Zemel, et al. 2013): [0.7018]\n"
     ]
    }
   ],
   "source": [
    "ops.MetricTextExplainer_(bina).explain()"
   ]
  },
  {
   "cell_type": "code",
   "execution_count": null,
   "metadata": {},
   "outputs": [],
   "source": []
  }
 ],
 "metadata": {
  "kernelspec": {
   "display_name": "Python 3",
   "language": "python",
   "name": "python3"
  },
  "language_info": {
   "codemirror_mode": {
    "name": "ipython",
    "version": 3
   },
   "file_extension": ".py",
   "mimetype": "text/x-python",
   "name": "python",
   "nbconvert_exporter": "python",
   "pygments_lexer": "ipython3",
   "version": "3.7.3"
  }
 },
 "nbformat": 4,
 "nbformat_minor": 2
}

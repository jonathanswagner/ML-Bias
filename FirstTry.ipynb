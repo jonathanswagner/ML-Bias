{
 "cells": [
  {
   "cell_type": "code",
   "execution_count": 1,
   "metadata": {},
   "outputs": [],
   "source": [
    "from joblib import load\n",
    "import pandas as pd\n",
    "import code.operators as ops"
   ]
  },
  {
   "cell_type": "markdown",
   "metadata": {},
   "source": [
    "#  Case Study 1 - Loan Default Prediction"
   ]
  },
  {
   "cell_type": "code",
   "execution_count": 2,
   "metadata": {},
   "outputs": [],
   "source": [
    "data = pd.read_csv('x_train.csv', index_col=['Loan_ID'])\n",
    "svc_bias = load('svc_loan_bias.joblib')\n",
    "lr_bias = load('lr_loan_bias.joblib')\n",
    "lr = load('lr_loan.joblib')\n",
    "svc = load('svc_loan.joblib')"
   ]
  },
  {
   "cell_type": "code",
   "execution_count": 3,
   "metadata": {},
   "outputs": [],
   "source": [
    "X_new = ops.data_generator_fd(data)"
   ]
  },
  {
   "cell_type": "code",
   "execution_count": 4,
   "metadata": {},
   "outputs": [
    {
     "data": {
      "text/html": [
       "<div>\n",
       "<style scoped>\n",
       "    .dataframe tbody tr th:only-of-type {\n",
       "        vertical-align: middle;\n",
       "    }\n",
       "\n",
       "    .dataframe tbody tr th {\n",
       "        vertical-align: top;\n",
       "    }\n",
       "\n",
       "    .dataframe thead th {\n",
       "        text-align: right;\n",
       "    }\n",
       "</style>\n",
       "<table border=\"1\" class=\"dataframe\">\n",
       "  <thead>\n",
       "    <tr style=\"text-align: right;\">\n",
       "      <th></th>\n",
       "      <th>Gender</th>\n",
       "      <th>Education</th>\n",
       "      <th>Self_Employed</th>\n",
       "      <th>Credit_History</th>\n",
       "      <th>Property_Area_Semiurban</th>\n",
       "      <th>Property_Area_Urban</th>\n",
       "      <th>ln_monthly_return</th>\n",
       "      <th>ln_total_income</th>\n",
       "      <th>ln_LoanAmount</th>\n",
       "    </tr>\n",
       "  </thead>\n",
       "  <tbody>\n",
       "    <tr>\n",
       "      <th>count</th>\n",
       "      <td>1000.000000</td>\n",
       "      <td>1000.000000</td>\n",
       "      <td>1000.000000</td>\n",
       "      <td>1000.000000</td>\n",
       "      <td>1000.000000</td>\n",
       "      <td>1000.000000</td>\n",
       "      <td>1000.000000</td>\n",
       "      <td>1000.000000</td>\n",
       "      <td>1000.000000</td>\n",
       "    </tr>\n",
       "    <tr>\n",
       "      <th>mean</th>\n",
       "      <td>0.501000</td>\n",
       "      <td>0.534000</td>\n",
       "      <td>0.507000</td>\n",
       "      <td>0.849151</td>\n",
       "      <td>0.479000</td>\n",
       "      <td>0.495000</td>\n",
       "      <td>-0.422051</td>\n",
       "      <td>-0.896635</td>\n",
       "      <td>-0.140051</td>\n",
       "    </tr>\n",
       "    <tr>\n",
       "      <th>std</th>\n",
       "      <td>0.500249</td>\n",
       "      <td>0.499092</td>\n",
       "      <td>0.500201</td>\n",
       "      <td>0.364508</td>\n",
       "      <td>0.499809</td>\n",
       "      <td>0.500225</td>\n",
       "      <td>23.084265</td>\n",
       "      <td>21.625664</td>\n",
       "      <td>22.687147</td>\n",
       "    </tr>\n",
       "    <tr>\n",
       "      <th>min</th>\n",
       "      <td>0.000000</td>\n",
       "      <td>0.000000</td>\n",
       "      <td>0.000000</td>\n",
       "      <td>-0.386603</td>\n",
       "      <td>0.000000</td>\n",
       "      <td>0.000000</td>\n",
       "      <td>-71.713201</td>\n",
       "      <td>-70.220720</td>\n",
       "      <td>-71.657594</td>\n",
       "    </tr>\n",
       "    <tr>\n",
       "      <th>25%</th>\n",
       "      <td>0.000000</td>\n",
       "      <td>0.000000</td>\n",
       "      <td>0.000000</td>\n",
       "      <td>0.616325</td>\n",
       "      <td>0.000000</td>\n",
       "      <td>0.000000</td>\n",
       "      <td>-15.729590</td>\n",
       "      <td>-15.939658</td>\n",
       "      <td>-15.422592</td>\n",
       "    </tr>\n",
       "    <tr>\n",
       "      <th>50%</th>\n",
       "      <td>1.000000</td>\n",
       "      <td>1.000000</td>\n",
       "      <td>1.000000</td>\n",
       "      <td>0.833829</td>\n",
       "      <td>0.000000</td>\n",
       "      <td>0.000000</td>\n",
       "      <td>-1.166282</td>\n",
       "      <td>-0.879196</td>\n",
       "      <td>0.646336</td>\n",
       "    </tr>\n",
       "    <tr>\n",
       "      <th>75%</th>\n",
       "      <td>1.000000</td>\n",
       "      <td>1.000000</td>\n",
       "      <td>1.000000</td>\n",
       "      <td>1.097663</td>\n",
       "      <td>1.000000</td>\n",
       "      <td>1.000000</td>\n",
       "      <td>14.300876</td>\n",
       "      <td>13.499443</td>\n",
       "      <td>15.444715</td>\n",
       "    </tr>\n",
       "    <tr>\n",
       "      <th>max</th>\n",
       "      <td>1.000000</td>\n",
       "      <td>1.000000</td>\n",
       "      <td>1.000000</td>\n",
       "      <td>1.988436</td>\n",
       "      <td>1.000000</td>\n",
       "      <td>1.000000</td>\n",
       "      <td>68.468200</td>\n",
       "      <td>71.018384</td>\n",
       "      <td>61.212319</td>\n",
       "    </tr>\n",
       "  </tbody>\n",
       "</table>\n",
       "</div>"
      ],
      "text/plain": [
       "            Gender    Education  Self_Employed  Credit_History  \\\n",
       "count  1000.000000  1000.000000    1000.000000     1000.000000   \n",
       "mean      0.501000     0.534000       0.507000        0.849151   \n",
       "std       0.500249     0.499092       0.500201        0.364508   \n",
       "min       0.000000     0.000000       0.000000       -0.386603   \n",
       "25%       0.000000     0.000000       0.000000        0.616325   \n",
       "50%       1.000000     1.000000       1.000000        0.833829   \n",
       "75%       1.000000     1.000000       1.000000        1.097663   \n",
       "max       1.000000     1.000000       1.000000        1.988436   \n",
       "\n",
       "       Property_Area_Semiurban  Property_Area_Urban  ln_monthly_return  \\\n",
       "count              1000.000000          1000.000000        1000.000000   \n",
       "mean                  0.479000             0.495000          -0.422051   \n",
       "std                   0.499809             0.500225          23.084265   \n",
       "min                   0.000000             0.000000         -71.713201   \n",
       "25%                   0.000000             0.000000         -15.729590   \n",
       "50%                   0.000000             0.000000          -1.166282   \n",
       "75%                   1.000000             1.000000          14.300876   \n",
       "max                   1.000000             1.000000          68.468200   \n",
       "\n",
       "       ln_total_income  ln_LoanAmount  \n",
       "count      1000.000000    1000.000000  \n",
       "mean         -0.896635      -0.140051  \n",
       "std          21.625664      22.687147  \n",
       "min         -70.220720     -71.657594  \n",
       "25%         -15.939658     -15.422592  \n",
       "50%          -0.879196       0.646336  \n",
       "75%          13.499443      15.444715  \n",
       "max          71.018384      61.212319  "
      ]
     },
     "execution_count": 4,
     "metadata": {},
     "output_type": "execute_result"
    }
   ],
   "source": [
    "X_new.describe()"
   ]
  },
  {
   "cell_type": "code",
   "execution_count": 5,
   "metadata": {},
   "outputs": [
    {
     "data": {
      "image/png": "[encoded data removed]",
      "text/plain": [
       "<Figure size 432x288 with 1 Axes>"
      ]
     },
     "metadata": {
      "needs_background": "light"
     },
     "output_type": "display_data"
    }
   ],
   "source": [
    "ops.plot_feature_importance(x='feature', y='importance', data=ops.feature_importance(lr_bias, X_new))"
   ]
  },
  {
   "cell_type": "code",
   "execution_count": 6,
   "metadata": {},
   "outputs": [
    {
     "data": {
      "image/png": "[encoded data removed]",
      "text/plain": [
       "<Figure size 432x288 with 1 Axes>"
      ]
     },
     "metadata": {
      "needs_background": "light"
     },
     "output_type": "display_data"
    }
   ],
   "source": [
    "ops.plot_feature_importance(x='feature', y='importance', data=ops.feature_importance(lr, X_new))"
   ]
  },
  {
   "cell_type": "code",
   "execution_count": 7,
   "metadata": {},
   "outputs": [],
   "source": [
    "pred_n_bias = ops.create_eval(svc_bias, X_new)\n",
    "pred_n = ops.create_eval(svc, X_new)"
   ]
  },
  {
   "cell_type": "code",
   "execution_count": 8,
   "metadata": {},
   "outputs": [
    {
     "name": "stdout",
     "output_type": "stream",
     "text": [
      "1-min(DI, 1/DI): 0.888\n",
      "There is a potential bias\n"
     ]
    }
   ],
   "source": [
    "ops.calc_disparity_index(pred_n_bias, 'Pred', 'Gender',0)"
   ]
  },
  {
   "cell_type": "code",
   "execution_count": 9,
   "metadata": {},
   "outputs": [
    {
     "name": "stdout",
     "output_type": "stream",
     "text": [
      "-0.666\n",
      "There is a potential bias\n"
     ]
    }
   ],
   "source": [
    "ops.calc_stat_parity(pred_n_bias, 'Pred', 'Gender',0)"
   ]
  },
  {
   "cell_type": "code",
   "execution_count": 10,
   "metadata": {},
   "outputs": [
    {
     "name": "stdout",
     "output_type": "stream",
     "text": [
      "-0.666\n",
      "There is a potential bias\n"
     ]
    }
   ],
   "source": [
    "ops.calc_mean_diff(pred_n_bias, 'Pred', 'Gender',0)"
   ]
  },
  {
   "cell_type": "code",
   "execution_count": 11,
   "metadata": {},
   "outputs": [
    {
     "name": "stdout",
     "output_type": "stream",
     "text": [
      "-0.6810772501771793\n",
      "There is a potential bias\n"
     ]
    }
   ],
   "source": [
    "ops.equal_opportunity(X_new, pred_n_bias, 'Pred', 'Gender', 0)"
   ]
  },
  {
   "cell_type": "code",
   "execution_count": 13,
   "metadata": {},
   "outputs": [
    {
     "name": "stdout",
     "output_type": "stream",
     "text": [
      "0.5048389895599675\n",
      "There is a potential bias\n"
     ]
    }
   ],
   "source": [
    "ops.coeff_variation(X_new, pred_n_bias, 'Pred', 'Gender', 0)"
   ]
  },
  {
   "cell_type": "code",
   "execution_count": 15,
   "metadata": {},
   "outputs": [],
   "source": [
    "bina = ops.create_binary(pred_n_bias, 'Pred', 'Gender', 0)"
   ]
  },
  {
   "cell_type": "code",
   "execution_count": 16,
   "metadata": {},
   "outputs": [
    {
     "name": "stdout",
     "output_type": "stream",
     "text": [
      "Consistency (Zemel, et al. 2013): [0.665]\n",
      "Number of positive-outcome instances: 418.0\n",
      "Mean difference (mean label value on privileged instances - mean label value on unprivileged instances): -0.6663306653226613\n",
      "Statistical parity difference (probability of favorable outcome for unprivileged instances - probability of favorable outcome for privileged instances): -0.6663306653226613\n",
      "Number of instances: 1000.0\n",
      "Number of negative-outcome instances: 582.0\n",
      "Disparate impact (probability of favorable outcome for unprivileged instances / probability of favorable outcome for privileged instances): 0.11214983157804972\n"
     ]
    }
   ],
   "source": [
    "ops.MetricTextExplainer_(bina).explain()"
   ]
  },
  {
   "cell_type": "markdown",
   "metadata": {},
   "source": [
    "# Case Study 2 - Credit Card Acceptance"
   ]
  },
  {
   "cell_type": "code",
   "execution_count": 17,
   "metadata": {},
   "outputs": [],
   "source": [
    "data = pd.read_csv('x_train_cc.csv', index_col=0)\n",
    "svc = load('svc_cc.joblib')\n",
    "lr = load('lr_cc.joblib')"
   ]
  },
  {
   "cell_type": "code",
   "execution_count": 18,
   "metadata": {},
   "outputs": [
    {
     "data": {
      "text/html": [
       "<div>\n",
       "<style scoped>\n",
       "    .dataframe tbody tr th:only-of-type {\n",
       "        vertical-align: middle;\n",
       "    }\n",
       "\n",
       "    .dataframe tbody tr th {\n",
       "        vertical-align: top;\n",
       "    }\n",
       "\n",
       "    .dataframe thead th {\n",
       "        text-align: right;\n",
       "    }\n",
       "</style>\n",
       "<table border=\"1\" class=\"dataframe\">\n",
       "  <thead>\n",
       "    <tr style=\"text-align: right;\">\n",
       "      <th></th>\n",
       "      <th>Male</th>\n",
       "      <th>Age</th>\n",
       "      <th>Debt</th>\n",
       "      <th>Married</th>\n",
       "      <th>BankCustomer</th>\n",
       "      <th>EducationLevel</th>\n",
       "      <th>Ethnicity</th>\n",
       "      <th>YearsEmployed</th>\n",
       "      <th>PriorDefault</th>\n",
       "      <th>Employed</th>\n",
       "      <th>CreditScore</th>\n",
       "      <th>DriversLicense</th>\n",
       "      <th>Citizen</th>\n",
       "      <th>ZipCode</th>\n",
       "      <th>Income</th>\n",
       "    </tr>\n",
       "  </thead>\n",
       "  <tbody>\n",
       "    <tr>\n",
       "      <th>0</th>\n",
       "      <td>1</td>\n",
       "      <td>31.830541</td>\n",
       "      <td>6.550703</td>\n",
       "      <td>2</td>\n",
       "      <td>1</td>\n",
       "      <td>1</td>\n",
       "      <td>2</td>\n",
       "      <td>-1.915360</td>\n",
       "      <td>1</td>\n",
       "      <td>1</td>\n",
       "      <td>50</td>\n",
       "      <td>1</td>\n",
       "      <td>2</td>\n",
       "      <td>19</td>\n",
       "      <td>6216</td>\n",
       "    </tr>\n",
       "    <tr>\n",
       "      <th>1</th>\n",
       "      <td>0</td>\n",
       "      <td>32.627403</td>\n",
       "      <td>13.522734</td>\n",
       "      <td>0</td>\n",
       "      <td>1</td>\n",
       "      <td>6</td>\n",
       "      <td>4</td>\n",
       "      <td>0.054652</td>\n",
       "      <td>0</td>\n",
       "      <td>0</td>\n",
       "      <td>63</td>\n",
       "      <td>0</td>\n",
       "      <td>1</td>\n",
       "      <td>79</td>\n",
       "      <td>11809</td>\n",
       "    </tr>\n",
       "    <tr>\n",
       "      <th>2</th>\n",
       "      <td>0</td>\n",
       "      <td>29.446780</td>\n",
       "      <td>4.646514</td>\n",
       "      <td>2</td>\n",
       "      <td>1</td>\n",
       "      <td>12</td>\n",
       "      <td>2</td>\n",
       "      <td>2.161283</td>\n",
       "      <td>1</td>\n",
       "      <td>0</td>\n",
       "      <td>10</td>\n",
       "      <td>0</td>\n",
       "      <td>1</td>\n",
       "      <td>123</td>\n",
       "      <td>19645</td>\n",
       "    </tr>\n",
       "    <tr>\n",
       "      <th>3</th>\n",
       "      <td>0</td>\n",
       "      <td>25.477405</td>\n",
       "      <td>-0.581388</td>\n",
       "      <td>2</td>\n",
       "      <td>2</td>\n",
       "      <td>9</td>\n",
       "      <td>7</td>\n",
       "      <td>4.789087</td>\n",
       "      <td>1</td>\n",
       "      <td>0</td>\n",
       "      <td>33</td>\n",
       "      <td>0</td>\n",
       "      <td>2</td>\n",
       "      <td>100</td>\n",
       "      <td>1998</td>\n",
       "    </tr>\n",
       "    <tr>\n",
       "      <th>4</th>\n",
       "      <td>1</td>\n",
       "      <td>37.086113</td>\n",
       "      <td>-4.925976</td>\n",
       "      <td>2</td>\n",
       "      <td>1</td>\n",
       "      <td>13</td>\n",
       "      <td>8</td>\n",
       "      <td>-0.081900</td>\n",
       "      <td>1</td>\n",
       "      <td>0</td>\n",
       "      <td>38</td>\n",
       "      <td>0</td>\n",
       "      <td>2</td>\n",
       "      <td>105</td>\n",
       "      <td>18192</td>\n",
       "    </tr>\n",
       "    <tr>\n",
       "      <th>5</th>\n",
       "      <td>0</td>\n",
       "      <td>36.247936</td>\n",
       "      <td>0.389687</td>\n",
       "      <td>0</td>\n",
       "      <td>2</td>\n",
       "      <td>0</td>\n",
       "      <td>6</td>\n",
       "      <td>1.226111</td>\n",
       "      <td>0</td>\n",
       "      <td>1</td>\n",
       "      <td>34</td>\n",
       "      <td>1</td>\n",
       "      <td>1</td>\n",
       "      <td>91</td>\n",
       "      <td>46097</td>\n",
       "    </tr>\n",
       "    <tr>\n",
       "      <th>6</th>\n",
       "      <td>1</td>\n",
       "      <td>28.818390</td>\n",
       "      <td>6.396250</td>\n",
       "      <td>1</td>\n",
       "      <td>1</td>\n",
       "      <td>9</td>\n",
       "      <td>1</td>\n",
       "      <td>-3.369011</td>\n",
       "      <td>0</td>\n",
       "      <td>1</td>\n",
       "      <td>7</td>\n",
       "      <td>0</td>\n",
       "      <td>2</td>\n",
       "      <td>160</td>\n",
       "      <td>35583</td>\n",
       "    </tr>\n",
       "    <tr>\n",
       "      <th>7</th>\n",
       "      <td>0</td>\n",
       "      <td>18.407360</td>\n",
       "      <td>9.131053</td>\n",
       "      <td>0</td>\n",
       "      <td>1</td>\n",
       "      <td>2</td>\n",
       "      <td>4</td>\n",
       "      <td>-0.207497</td>\n",
       "      <td>1</td>\n",
       "      <td>0</td>\n",
       "      <td>3</td>\n",
       "      <td>1</td>\n",
       "      <td>0</td>\n",
       "      <td>96</td>\n",
       "      <td>26871</td>\n",
       "    </tr>\n",
       "    <tr>\n",
       "      <th>8</th>\n",
       "      <td>0</td>\n",
       "      <td>30.591218</td>\n",
       "      <td>4.943105</td>\n",
       "      <td>2</td>\n",
       "      <td>0</td>\n",
       "      <td>11</td>\n",
       "      <td>3</td>\n",
       "      <td>1.304216</td>\n",
       "      <td>0</td>\n",
       "      <td>0</td>\n",
       "      <td>19</td>\n",
       "      <td>1</td>\n",
       "      <td>1</td>\n",
       "      <td>22</td>\n",
       "      <td>14160</td>\n",
       "    </tr>\n",
       "    <tr>\n",
       "      <th>9</th>\n",
       "      <td>1</td>\n",
       "      <td>15.961271</td>\n",
       "      <td>5.990760</td>\n",
       "      <td>2</td>\n",
       "      <td>1</td>\n",
       "      <td>13</td>\n",
       "      <td>8</td>\n",
       "      <td>3.030180</td>\n",
       "      <td>0</td>\n",
       "      <td>0</td>\n",
       "      <td>7</td>\n",
       "      <td>0</td>\n",
       "      <td>2</td>\n",
       "      <td>48</td>\n",
       "      <td>39792</td>\n",
       "    </tr>\n",
       "  </tbody>\n",
       "</table>\n",
       "</div>"
      ],
      "text/plain": [
       "   Male        Age       Debt  Married  BankCustomer  EducationLevel  \\\n",
       "0     1  31.830541   6.550703        2             1               1   \n",
       "1     0  32.627403  13.522734        0             1               6   \n",
       "2     0  29.446780   4.646514        2             1              12   \n",
       "3     0  25.477405  -0.581388        2             2               9   \n",
       "4     1  37.086113  -4.925976        2             1              13   \n",
       "5     0  36.247936   0.389687        0             2               0   \n",
       "6     1  28.818390   6.396250        1             1               9   \n",
       "7     0  18.407360   9.131053        0             1               2   \n",
       "8     0  30.591218   4.943105        2             0              11   \n",
       "9     1  15.961271   5.990760        2             1              13   \n",
       "\n",
       "   Ethnicity  YearsEmployed  PriorDefault  Employed  CreditScore  \\\n",
       "0          2      -1.915360             1         1           50   \n",
       "1          4       0.054652             0         0           63   \n",
       "2          2       2.161283             1         0           10   \n",
       "3          7       4.789087             1         0           33   \n",
       "4          8      -0.081900             1         0           38   \n",
       "5          6       1.226111             0         1           34   \n",
       "6          1      -3.369011             0         1            7   \n",
       "7          4      -0.207497             1         0            3   \n",
       "8          3       1.304216             0         0           19   \n",
       "9          8       3.030180             0         0            7   \n",
       "\n",
       "   DriversLicense  Citizen  ZipCode  Income  \n",
       "0               1        2       19    6216  \n",
       "1               0        1       79   11809  \n",
       "2               0        1      123   19645  \n",
       "3               0        2      100    1998  \n",
       "4               0        2      105   18192  \n",
       "5               1        1       91   46097  \n",
       "6               0        2      160   35583  \n",
       "7               1        0       96   26871  \n",
       "8               1        1       22   14160  \n",
       "9               0        2       48   39792  "
      ]
     },
     "execution_count": 18,
     "metadata": {},
     "output_type": "execute_result"
    }
   ],
   "source": [
    "X_new = ops.data_generator_fd(data)\n",
    "X_new.head(10)"
   ]
  },
  {
   "cell_type": "code",
   "execution_count": 19,
   "metadata": {},
   "outputs": [
    {
     "data": {
      "image/png": "[encoded data removed]",
      "text/plain": [
       "<Figure size 432x288 with 1 Axes>"
      ]
     },
     "metadata": {
      "needs_background": "light"
     },
     "output_type": "display_data"
    }
   ],
   "source": [
    "ops.plot_feature_importance(x='feature', y='importance', data=ops.feature_importance(lr, X_new))"
   ]
  },
  {
   "cell_type": "code",
   "execution_count": 20,
   "metadata": {},
   "outputs": [
    {
     "data": {
      "text/html": [
       "<div>\n",
       "<style scoped>\n",
       "    .dataframe tbody tr th:only-of-type {\n",
       "        vertical-align: middle;\n",
       "    }\n",
       "\n",
       "    .dataframe tbody tr th {\n",
       "        vertical-align: top;\n",
       "    }\n",
       "\n",
       "    .dataframe thead th {\n",
       "        text-align: right;\n",
       "    }\n",
       "</style>\n",
       "<table border=\"1\" class=\"dataframe\">\n",
       "  <thead>\n",
       "    <tr style=\"text-align: right;\">\n",
       "      <th></th>\n",
       "      <th>Male</th>\n",
       "      <th>Age</th>\n",
       "      <th>Debt</th>\n",
       "      <th>Married</th>\n",
       "      <th>BankCustomer</th>\n",
       "      <th>EducationLevel</th>\n",
       "      <th>Ethnicity</th>\n",
       "      <th>YearsEmployed</th>\n",
       "      <th>PriorDefault</th>\n",
       "      <th>Employed</th>\n",
       "      <th>CreditScore</th>\n",
       "      <th>DriversLicense</th>\n",
       "      <th>Citizen</th>\n",
       "      <th>ZipCode</th>\n",
       "      <th>Income</th>\n",
       "      <th>Pred</th>\n",
       "    </tr>\n",
       "  </thead>\n",
       "  <tbody>\n",
       "    <tr>\n",
       "      <th>0</th>\n",
       "      <td>1</td>\n",
       "      <td>31.830541</td>\n",
       "      <td>6.550703</td>\n",
       "      <td>2</td>\n",
       "      <td>1</td>\n",
       "      <td>1</td>\n",
       "      <td>2</td>\n",
       "      <td>-1.915360</td>\n",
       "      <td>1</td>\n",
       "      <td>1</td>\n",
       "      <td>50</td>\n",
       "      <td>1</td>\n",
       "      <td>2</td>\n",
       "      <td>19</td>\n",
       "      <td>6216</td>\n",
       "      <td>0</td>\n",
       "    </tr>\n",
       "    <tr>\n",
       "      <th>1</th>\n",
       "      <td>0</td>\n",
       "      <td>32.627403</td>\n",
       "      <td>13.522734</td>\n",
       "      <td>0</td>\n",
       "      <td>1</td>\n",
       "      <td>6</td>\n",
       "      <td>4</td>\n",
       "      <td>0.054652</td>\n",
       "      <td>0</td>\n",
       "      <td>0</td>\n",
       "      <td>63</td>\n",
       "      <td>0</td>\n",
       "      <td>1</td>\n",
       "      <td>79</td>\n",
       "      <td>11809</td>\n",
       "      <td>0</td>\n",
       "    </tr>\n",
       "    <tr>\n",
       "      <th>2</th>\n",
       "      <td>0</td>\n",
       "      <td>29.446780</td>\n",
       "      <td>4.646514</td>\n",
       "      <td>2</td>\n",
       "      <td>1</td>\n",
       "      <td>12</td>\n",
       "      <td>2</td>\n",
       "      <td>2.161283</td>\n",
       "      <td>1</td>\n",
       "      <td>0</td>\n",
       "      <td>10</td>\n",
       "      <td>0</td>\n",
       "      <td>1</td>\n",
       "      <td>123</td>\n",
       "      <td>19645</td>\n",
       "      <td>0</td>\n",
       "    </tr>\n",
       "    <tr>\n",
       "      <th>3</th>\n",
       "      <td>0</td>\n",
       "      <td>25.477405</td>\n",
       "      <td>-0.581388</td>\n",
       "      <td>2</td>\n",
       "      <td>2</td>\n",
       "      <td>9</td>\n",
       "      <td>7</td>\n",
       "      <td>4.789087</td>\n",
       "      <td>1</td>\n",
       "      <td>0</td>\n",
       "      <td>33</td>\n",
       "      <td>0</td>\n",
       "      <td>2</td>\n",
       "      <td>100</td>\n",
       "      <td>1998</td>\n",
       "      <td>0</td>\n",
       "    </tr>\n",
       "    <tr>\n",
       "      <th>4</th>\n",
       "      <td>1</td>\n",
       "      <td>37.086113</td>\n",
       "      <td>-4.925976</td>\n",
       "      <td>2</td>\n",
       "      <td>1</td>\n",
       "      <td>13</td>\n",
       "      <td>8</td>\n",
       "      <td>-0.081900</td>\n",
       "      <td>1</td>\n",
       "      <td>0</td>\n",
       "      <td>38</td>\n",
       "      <td>0</td>\n",
       "      <td>2</td>\n",
       "      <td>105</td>\n",
       "      <td>18192</td>\n",
       "      <td>0</td>\n",
       "    </tr>\n",
       "    <tr>\n",
       "      <th>5</th>\n",
       "      <td>0</td>\n",
       "      <td>36.247936</td>\n",
       "      <td>0.389687</td>\n",
       "      <td>0</td>\n",
       "      <td>2</td>\n",
       "      <td>0</td>\n",
       "      <td>6</td>\n",
       "      <td>1.226111</td>\n",
       "      <td>0</td>\n",
       "      <td>1</td>\n",
       "      <td>34</td>\n",
       "      <td>1</td>\n",
       "      <td>1</td>\n",
       "      <td>91</td>\n",
       "      <td>46097</td>\n",
       "      <td>0</td>\n",
       "    </tr>\n",
       "    <tr>\n",
       "      <th>6</th>\n",
       "      <td>1</td>\n",
       "      <td>28.818390</td>\n",
       "      <td>6.396250</td>\n",
       "      <td>1</td>\n",
       "      <td>1</td>\n",
       "      <td>9</td>\n",
       "      <td>1</td>\n",
       "      <td>-3.369011</td>\n",
       "      <td>0</td>\n",
       "      <td>1</td>\n",
       "      <td>7</td>\n",
       "      <td>0</td>\n",
       "      <td>2</td>\n",
       "      <td>160</td>\n",
       "      <td>35583</td>\n",
       "      <td>0</td>\n",
       "    </tr>\n",
       "    <tr>\n",
       "      <th>7</th>\n",
       "      <td>0</td>\n",
       "      <td>18.407360</td>\n",
       "      <td>9.131053</td>\n",
       "      <td>0</td>\n",
       "      <td>1</td>\n",
       "      <td>2</td>\n",
       "      <td>4</td>\n",
       "      <td>-0.207497</td>\n",
       "      <td>1</td>\n",
       "      <td>0</td>\n",
       "      <td>3</td>\n",
       "      <td>1</td>\n",
       "      <td>0</td>\n",
       "      <td>96</td>\n",
       "      <td>26871</td>\n",
       "      <td>0</td>\n",
       "    </tr>\n",
       "    <tr>\n",
       "      <th>8</th>\n",
       "      <td>0</td>\n",
       "      <td>30.591218</td>\n",
       "      <td>4.943105</td>\n",
       "      <td>2</td>\n",
       "      <td>0</td>\n",
       "      <td>11</td>\n",
       "      <td>3</td>\n",
       "      <td>1.304216</td>\n",
       "      <td>0</td>\n",
       "      <td>0</td>\n",
       "      <td>19</td>\n",
       "      <td>1</td>\n",
       "      <td>1</td>\n",
       "      <td>22</td>\n",
       "      <td>14160</td>\n",
       "      <td>0</td>\n",
       "    </tr>\n",
       "    <tr>\n",
       "      <th>9</th>\n",
       "      <td>1</td>\n",
       "      <td>15.961271</td>\n",
       "      <td>5.990760</td>\n",
       "      <td>2</td>\n",
       "      <td>1</td>\n",
       "      <td>13</td>\n",
       "      <td>8</td>\n",
       "      <td>3.030180</td>\n",
       "      <td>0</td>\n",
       "      <td>0</td>\n",
       "      <td>7</td>\n",
       "      <td>0</td>\n",
       "      <td>2</td>\n",
       "      <td>48</td>\n",
       "      <td>39792</td>\n",
       "      <td>0</td>\n",
       "    </tr>\n",
       "  </tbody>\n",
       "</table>\n",
       "</div>"
      ],
      "text/plain": [
       "   Male        Age       Debt  Married  BankCustomer  EducationLevel  \\\n",
       "0     1  31.830541   6.550703        2             1               1   \n",
       "1     0  32.627403  13.522734        0             1               6   \n",
       "2     0  29.446780   4.646514        2             1              12   \n",
       "3     0  25.477405  -0.581388        2             2               9   \n",
       "4     1  37.086113  -4.925976        2             1              13   \n",
       "5     0  36.247936   0.389687        0             2               0   \n",
       "6     1  28.818390   6.396250        1             1               9   \n",
       "7     0  18.407360   9.131053        0             1               2   \n",
       "8     0  30.591218   4.943105        2             0              11   \n",
       "9     1  15.961271   5.990760        2             1              13   \n",
       "\n",
       "   Ethnicity  YearsEmployed  PriorDefault  Employed  CreditScore  \\\n",
       "0          2      -1.915360             1         1           50   \n",
       "1          4       0.054652             0         0           63   \n",
       "2          2       2.161283             1         0           10   \n",
       "3          7       4.789087             1         0           33   \n",
       "4          8      -0.081900             1         0           38   \n",
       "5          6       1.226111             0         1           34   \n",
       "6          1      -3.369011             0         1            7   \n",
       "7          4      -0.207497             1         0            3   \n",
       "8          3       1.304216             0         0           19   \n",
       "9          8       3.030180             0         0            7   \n",
       "\n",
       "   DriversLicense  Citizen  ZipCode  Income  Pred  \n",
       "0               1        2       19    6216     0  \n",
       "1               0        1       79   11809     0  \n",
       "2               0        1      123   19645     0  \n",
       "3               0        2      100    1998     0  \n",
       "4               0        2      105   18192     0  \n",
       "5               1        1       91   46097     0  \n",
       "6               0        2      160   35583     0  \n",
       "7               1        0       96   26871     0  \n",
       "8               1        1       22   14160     0  \n",
       "9               0        2       48   39792     0  "
      ]
     },
     "execution_count": 20,
     "metadata": {},
     "output_type": "execute_result"
    }
   ],
   "source": [
    "pred_n = ops.create_eval(lr, X_new)\n",
    "pred_n.head(10)"
   ]
  },
  {
   "cell_type": "code",
   "execution_count": 28,
   "metadata": {},
   "outputs": [
    {
     "name": "stdout",
     "output_type": "stream",
     "text": [
      "1-min(DI, 1/DI): 0.622\n",
      "There is a potential bias\n"
     ]
    }
   ],
   "source": [
    "ops.calc_disparity_index(pred_n, 'Pred', 'Ethnicity', 4)"
   ]
  },
  {
   "cell_type": "code",
   "execution_count": 29,
   "metadata": {},
   "outputs": [
    {
     "name": "stdout",
     "output_type": "stream",
     "text": [
      "0.011\n",
      "The algorithm can be considered to be not biased\n"
     ]
    }
   ],
   "source": [
    "ops.calc_stat_parity(pred_n, 'Pred', 'Ethnicity',4)"
   ]
  },
  {
   "cell_type": "code",
   "execution_count": 30,
   "metadata": {},
   "outputs": [
    {
     "name": "stdout",
     "output_type": "stream",
     "text": [
      "0.011\n",
      "The algorithm can be considered to be not biased\n"
     ]
    }
   ],
   "source": [
    "ops.calc_mean_diff(pred_n, 'Pred', 'Ethnicity',4)"
   ]
  },
  {
   "cell_type": "code",
   "execution_count": 31,
   "metadata": {},
   "outputs": [
    {
     "name": "stdout",
     "output_type": "stream",
     "text": [
      "0.011243386243386243\n",
      "The algorithm can be considered to be not biased\n"
     ]
    }
   ],
   "source": [
    "ops.equal_opportunity(X_new, pred_n, 'Pred', 'Ethnicity', 4)"
   ]
  },
  {
   "cell_type": "code",
   "execution_count": 32,
   "metadata": {},
   "outputs": [
    {
     "name": "stdout",
     "output_type": "stream",
     "text": [
      "0.0712360551367611\n",
      "The algorithm can be considered to be not biased\n"
     ]
    }
   ],
   "source": [
    "ops.coeff_variation(X_new, pred_n, 'Pred', 'Ethnicity', 4)"
   ]
  },
  {
   "cell_type": "code",
   "execution_count": 33,
   "metadata": {},
   "outputs": [
    {
     "name": "stdout",
     "output_type": "stream",
     "text": [
      "Consistency (Zemel, et al. 2013): [0.9906]\n",
      "Number of positive-outcome instances: 8.0\n",
      "Mean difference (mean label value on privileged instances - mean label value on unprivileged instances): 0.011100386100386099\n",
      "Statistical parity difference (probability of favorable outcome for unprivileged instances - probability of favorable outcome for privileged instances): 0.011100386100386099\n",
      "Number of instances: 1000.0\n",
      "Number of negative-outcome instances: 992.0\n",
      "Disparate impact (probability of favorable outcome for unprivileged instances / probability of favorable outcome for privileged instances): 2.6428571428571423\n"
     ]
    }
   ],
   "source": [
    "bina = ops.create_binary(pred_n, 'Pred', 'Ethnicity', 4)\n",
    "ops.MetricTextExplainer_(bina).explain()"
   ]
  },
  {
   "cell_type": "code",
   "execution_count": null,
   "metadata": {},
   "outputs": [],
   "source": []
  }
 ],
 "metadata": {
  "kernelspec": {
   "display_name": "Python 3",
   "language": "python",
   "name": "python3"
  },
  "language_info": {
   "codemirror_mode": {
    "name": "ipython",
    "version": 3
   },
   "file_extension": ".py",
   "mimetype": "text/x-python",
   "name": "python",
   "nbconvert_exporter": "python",
   "pygments_lexer": "ipython3",
   "version": "3.7.3"
  }
 },
 "nbformat": 4,
 "nbformat_minor": 2
}

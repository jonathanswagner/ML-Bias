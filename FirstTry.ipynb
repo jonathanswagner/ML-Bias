{
 "cells": [
  {
   "cell_type": "code",
   "execution_count": 1,
   "metadata": {},
   "outputs": [],
   "source": [
    "from joblib import load\n",
    "import pandas as pd\n",
    "import code.operators as ops"
   ]
  },
  {
   "cell_type": "code",
   "execution_count": 2,
   "metadata": {},
   "outputs": [],
   "source": [
    "data = pd.read_csv('x_train.csv', index_col=['Loan_ID'])\n",
    "svc_bias = load('svc_loan_bias.joblib')\n",
    "lr_bias = load('lr_loan_bias.joblib')\n",
    "lr = load('lr_loan.joblib')\n",
    "svc = load('svc_loan.joblib')"
   ]
  },
  {
   "cell_type": "code",
   "execution_count": 3,
   "metadata": {},
   "outputs": [],
   "source": [
    "X_new = ops.data_generator_fd(data)"
   ]
  },
  {
   "cell_type": "code",
   "execution_count": 4,
   "metadata": {},
   "outputs": [
    {
     "data": {
      "text/html": [
       "<div>\n",
       "<style scoped>\n",
       "    .dataframe tbody tr th:only-of-type {\n",
       "        vertical-align: middle;\n",
       "    }\n",
       "\n",
       "    .dataframe tbody tr th {\n",
       "        vertical-align: top;\n",
       "    }\n",
       "\n",
       "    .dataframe thead th {\n",
       "        text-align: right;\n",
       "    }\n",
       "</style>\n",
       "<table border=\"1\" class=\"dataframe\">\n",
       "  <thead>\n",
       "    <tr style=\"text-align: right;\">\n",
       "      <th></th>\n",
       "      <th>Gender</th>\n",
       "      <th>Education</th>\n",
       "      <th>Self_Employed</th>\n",
       "      <th>Credit_History</th>\n",
       "      <th>Property_Area_Semiurban</th>\n",
       "      <th>Property_Area_Urban</th>\n",
       "      <th>ln_monthly_return</th>\n",
       "      <th>ln_total_income</th>\n",
       "      <th>ln_LoanAmount</th>\n",
       "    </tr>\n",
       "  </thead>\n",
       "  <tbody>\n",
       "    <tr>\n",
       "      <th>count</th>\n",
       "      <td>1000.000000</td>\n",
       "      <td>1000.000000</td>\n",
       "      <td>1000.000000</td>\n",
       "      <td>1000.000000</td>\n",
       "      <td>1000.00000</td>\n",
       "      <td>1000.000000</td>\n",
       "      <td>1000.000000</td>\n",
       "      <td>1000.000000</td>\n",
       "      <td>1000.000000</td>\n",
       "    </tr>\n",
       "    <tr>\n",
       "      <th>mean</th>\n",
       "      <td>0.494000</td>\n",
       "      <td>0.512000</td>\n",
       "      <td>0.512000</td>\n",
       "      <td>0.476000</td>\n",
       "      <td>0.48000</td>\n",
       "      <td>0.507000</td>\n",
       "      <td>1.157376</td>\n",
       "      <td>-0.376203</td>\n",
       "      <td>0.103196</td>\n",
       "    </tr>\n",
       "    <tr>\n",
       "      <th>std</th>\n",
       "      <td>0.500214</td>\n",
       "      <td>0.500106</td>\n",
       "      <td>0.500106</td>\n",
       "      <td>0.499674</td>\n",
       "      <td>0.49985</td>\n",
       "      <td>0.500201</td>\n",
       "      <td>22.935391</td>\n",
       "      <td>21.301399</td>\n",
       "      <td>22.947957</td>\n",
       "    </tr>\n",
       "    <tr>\n",
       "      <th>min</th>\n",
       "      <td>0.000000</td>\n",
       "      <td>0.000000</td>\n",
       "      <td>0.000000</td>\n",
       "      <td>0.000000</td>\n",
       "      <td>0.00000</td>\n",
       "      <td>0.000000</td>\n",
       "      <td>-70.042656</td>\n",
       "      <td>-80.192203</td>\n",
       "      <td>-75.649559</td>\n",
       "    </tr>\n",
       "    <tr>\n",
       "      <th>25%</th>\n",
       "      <td>0.000000</td>\n",
       "      <td>0.000000</td>\n",
       "      <td>0.000000</td>\n",
       "      <td>0.000000</td>\n",
       "      <td>0.00000</td>\n",
       "      <td>0.000000</td>\n",
       "      <td>-15.033415</td>\n",
       "      <td>-14.817428</td>\n",
       "      <td>-15.035228</td>\n",
       "    </tr>\n",
       "    <tr>\n",
       "      <th>50%</th>\n",
       "      <td>0.000000</td>\n",
       "      <td>1.000000</td>\n",
       "      <td>1.000000</td>\n",
       "      <td>0.000000</td>\n",
       "      <td>0.00000</td>\n",
       "      <td>1.000000</td>\n",
       "      <td>1.764955</td>\n",
       "      <td>-0.428446</td>\n",
       "      <td>0.925702</td>\n",
       "    </tr>\n",
       "    <tr>\n",
       "      <th>75%</th>\n",
       "      <td>1.000000</td>\n",
       "      <td>1.000000</td>\n",
       "      <td>1.000000</td>\n",
       "      <td>1.000000</td>\n",
       "      <td>1.00000</td>\n",
       "      <td>1.000000</td>\n",
       "      <td>17.034544</td>\n",
       "      <td>13.828990</td>\n",
       "      <td>14.844610</td>\n",
       "    </tr>\n",
       "    <tr>\n",
       "      <th>max</th>\n",
       "      <td>1.000000</td>\n",
       "      <td>1.000000</td>\n",
       "      <td>1.000000</td>\n",
       "      <td>1.000000</td>\n",
       "      <td>1.00000</td>\n",
       "      <td>1.000000</td>\n",
       "      <td>74.080624</td>\n",
       "      <td>65.072174</td>\n",
       "      <td>73.219279</td>\n",
       "    </tr>\n",
       "  </tbody>\n",
       "</table>\n",
       "</div>"
      ],
      "text/plain": [
       "            Gender    Education  Self_Employed  Credit_History  \\\n",
       "count  1000.000000  1000.000000    1000.000000     1000.000000   \n",
       "mean      0.494000     0.512000       0.512000        0.476000   \n",
       "std       0.500214     0.500106       0.500106        0.499674   \n",
       "min       0.000000     0.000000       0.000000        0.000000   \n",
       "25%       0.000000     0.000000       0.000000        0.000000   \n",
       "50%       0.000000     1.000000       1.000000        0.000000   \n",
       "75%       1.000000     1.000000       1.000000        1.000000   \n",
       "max       1.000000     1.000000       1.000000        1.000000   \n",
       "\n",
       "       Property_Area_Semiurban  Property_Area_Urban  ln_monthly_return  \\\n",
       "count               1000.00000          1000.000000        1000.000000   \n",
       "mean                   0.48000             0.507000           1.157376   \n",
       "std                    0.49985             0.500201          22.935391   \n",
       "min                    0.00000             0.000000         -70.042656   \n",
       "25%                    0.00000             0.000000         -15.033415   \n",
       "50%                    0.00000             1.000000           1.764955   \n",
       "75%                    1.00000             1.000000          17.034544   \n",
       "max                    1.00000             1.000000          74.080624   \n",
       "\n",
       "       ln_total_income  ln_LoanAmount  \n",
       "count      1000.000000    1000.000000  \n",
       "mean         -0.376203       0.103196  \n",
       "std          21.301399      22.947957  \n",
       "min         -80.192203     -75.649559  \n",
       "25%         -14.817428     -15.035228  \n",
       "50%          -0.428446       0.925702  \n",
       "75%          13.828990      14.844610  \n",
       "max          65.072174      73.219279  "
      ]
     },
     "execution_count": 4,
     "metadata": {},
     "output_type": "execute_result"
    }
   ],
   "source": [
    "X_new.describe()"
   ]
  },
  {
   "cell_type": "code",
   "execution_count": 5,
   "metadata": {},
   "outputs": [],
   "source": [
    "pred_n_bias = ops.create_eval(svc_bias, X_new)"
   ]
  },
  {
   "cell_type": "code",
   "execution_count": 6,
   "metadata": {},
   "outputs": [
    {
     "name": "stdout",
     "output_type": "stream",
     "text": [
      "1-min(DI, 1/DI): 0.957\n",
      "There is a potential bias\n"
     ]
    }
   ],
   "source": [
    "ops.calc_disparity_index(pred_n_bias, 'Pred', 'Gender',1,0)"
   ]
  },
  {
   "cell_type": "code",
   "execution_count": 7,
   "metadata": {},
   "outputs": [
    {
     "name": "stdout",
     "output_type": "stream",
     "text": [
      "-0.44\n",
      "The algorithm can be considered to be not biased\n"
     ]
    }
   ],
   "source": [
    "ops.calc_stat_parity(pred_n_bias, 'Pred', 'Gender',1,0)"
   ]
  },
  {
   "cell_type": "code",
   "execution_count": 8,
   "metadata": {},
   "outputs": [
    {
     "name": "stdout",
     "output_type": "stream",
     "text": [
      "-0.44\n",
      "There is a potential bias\n"
     ]
    }
   ],
   "source": [
    "ops.calc_mean_diff(pred_n_bias, 'Pred', 'Gender',1,0)"
   ]
  },
  {
   "cell_type": "code",
   "execution_count": 9,
   "metadata": {},
   "outputs": [
    {
     "name": "stdout",
     "output_type": "stream",
     "text": [
      "-0.43214154614198663\n",
      "There is a potential bias\n"
     ]
    }
   ],
   "source": [
    "ops.equal_opportunity(X_new, pred_n_bias, 'Pred', 'Gender', 1, 0)"
   ]
  },
  {
   "cell_type": "code",
   "execution_count": 10,
   "metadata": {},
   "outputs": [
    {
     "name": "stdout",
     "output_type": "stream",
     "text": [
      "0.4418181523146135\n",
      "There is a potential bias\n"
     ]
    }
   ],
   "source": [
    "ops.coeff_variation(X_new, pred_n_bias, 'Pred', 'Gender', 1, 0)"
   ]
  },
  {
   "cell_type": "code",
   "execution_count": null,
   "metadata": {},
   "outputs": [],
   "source": []
  }
 ],
 "metadata": {
  "kernelspec": {
   "display_name": "Python 3",
   "language": "python",
   "name": "python3"
  },
  "language_info": {
   "codemirror_mode": {
    "name": "ipython",
    "version": 3
   },
   "file_extension": ".py",
   "mimetype": "text/x-python",
   "name": "python",
   "nbconvert_exporter": "python",
   "pygments_lexer": "ipython3",
   "version": "3.7.3"
  }
 },
 "nbformat": 4,
 "nbformat_minor": 2
}
